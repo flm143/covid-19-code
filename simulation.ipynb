{
 "cells": [
  {
   "cell_type": "code",
   "execution_count": 1,
   "metadata": {},
   "outputs": [],
   "source": [
    "%matplotlib inline"
   ]
  },
  {
   "cell_type": "code",
   "execution_count": 13,
   "metadata": {},
   "outputs": [],
   "source": [
    "import numpy as np\n",
    "import pandas as pd\n",
    "\n",
    "from scipy.stats import poisson, norm\n",
    "from matplotlib import pyplot as plt\n",
    "from functools import partial\n",
    "\n",
    "from helpers import  pr_EI_long, pr_MO_long, pr_IM_long\n",
    "from core import do_simulation\n",
    "from const import *"
   ]
  },
  {
   "cell_type": "code",
   "execution_count": 3,
   "metadata": {},
   "outputs": [],
   "source": [
    "TOTAL_DAYS = 75  # the number of days\n",
    "INITIAL_NUM_BEDS = 3000\n",
    "INITIAL_NUM_E = 5\n",
    "\n",
    "TOTAL_POPULATION = 9000000\n",
    "\n",
    "K_DAYS = 21"
   ]
  },
  {
   "cell_type": "code",
   "execution_count": 20,
   "metadata": {},
   "outputs": [],
   "source": [
    "class Params:\n",
    "    def __init__(self,\n",
    "                 # infection-related parameters:\n",
    "                 alpha=0.02, beta=0.01, mu_ei=5.2, mu_mo=10, x0_pt=10000,  k_pt=0.0001,\n",
    "                 k_days=14,\n",
    "                 # city-related\n",
    "                 total_population=9000000,\n",
    "                 initial_num_E=5\n",
    "                ):\n",
    "        \n",
    "        self.total_population = total_population\n",
    "        self.initial_num_E = initial_num_E\n",
    "        \n",
    "        # probability  parameters\n",
    "        # S -> E\n",
    "        self.alpha = alpha\n",
    "        self.beta  = beta\n",
    "\n",
    "        # E -> I: Poisson\n",
    "        self.mu_ei = mu_ei\n",
    "\n",
    "        # I -> M: geoemtric\n",
    "        self.x0_pt = x0_pt\n",
    "        self.k_pt = k_pt\n",
    "\n",
    "        # M -> O: Poisson\n",
    "        self.mu_mo = mu_mo\n",
    "        \n",
    "        # time window size\n",
    "        self.k_days = k_days\n",
    "    "
   ]
  },
  {
   "cell_type": "code",
   "execution_count": 25,
   "metadata": {},
   "outputs": [
    {
     "data": {
      "text/plain": [
       "<matplotlib.legend.Legend at 0x7f5fd8a0fcf8>"
      ]
     },
     "execution_count": 25,
     "metadata": {},
     "output_type": "execute_result"
    },
    {
     "data": {
      "image/png": "[encoded data removed]",
      "text/plain": [
       "<Figure size 432x288 with 1 Axes>"
      ]
     },
     "metadata": {
      "needs_background": "light"
     },
     "output_type": "display_data"
    }
   ],
   "source": [
    "params = Params()\n",
    "total, delta, inc = do_simulation(15, [(0, 3000)], params)\n",
    "fig, ax = plt.subplots(1, 1)\n",
    "for color, s in zip(COLORS, range(data.shape[1])):\n",
    "    ax.plot(data[:, s], c=color)\n",
    "fig.legend(STATES)"
   ]
  }
 ],
 "metadata": {
  "kernelspec": {
   "display_name": "Python 3",
   "language": "python",
   "name": "python3"
  },
  "language_info": {
   "codemirror_mode": {
    "name": "ipython",
    "version": 3
   },
   "file_extension": ".py",
   "mimetype": "text/x-python",
   "name": "python",
   "nbconvert_exporter": "python",
   "pygments_lexer": "ipython3",
   "version": "3.6.10"
  }
 },
 "nbformat": 4,
 "nbformat_minor": 2
}
