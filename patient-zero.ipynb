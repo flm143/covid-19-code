{
 "cells": [
  {
   "cell_type": "code",
   "execution_count": 1,
   "metadata": {},
   "outputs": [],
   "source": [
    "%matplotlib inline"
   ]
  },
  {
   "cell_type": "code",
   "execution_count": 56,
   "metadata": {},
   "outputs": [],
   "source": [
    "import numpy as np\n",
    "import pandas as pd\n",
    "import pickle as pkl\n",
    "from itertools import product\n",
    "from sklearn.metrics import mean_squared_error, mean_absolute_error\n",
    "from tqdm import tqdm\n",
    "from matplotlib import pyplot as plt\n",
    "from datetime import timedelta\n",
    "from joblib import delayed, Parallel\n",
    "from copy import copy\n",
    "\n",
    "from core import  do_simulation\n",
    "from helpers import Params, T, get_T1_and_T2, R0, plot_total, save_bundle, save_to_json\n",
    "\n",
    "from const import STATE, COLORS, NUM_STATES,  STATES\n"
   ]
  },
  {
   "cell_type": "code",
   "execution_count": 23,
   "metadata": {},
   "outputs": [
    {
     "data": {
      "text/plain": [
       "1.999881671966743"
      ]
     },
     "execution_count": 23,
     "metadata": {},
     "output_type": "execute_result"
    }
   ],
   "source": [
    "tran_coef_before = np.array([4.28, 5.28, 5.33, 4.38, 4.13, 5.27, 5.28, 5.32, 5.15, 5.22, 4.46, 4.20, 5.17, 5.11, 4.91, 4.92, 4.87, 4.04, 4.32, 4.22 , 3.60, 2.88])\n",
    "tran_coef_after = np.array([0.66 ,0.67 ,0.68 ,0.66 ,0.69 ,0.69 ,0.66 ,0.69 ,0.68 ,0.67 ,0.60 ,0.62 ,0.61 ,0.62 ,0.62 ,0.61 ,0.60 ,0.62 ,0.67 ,0.60 ,0.58 ,0.59 ,0.58 ,0.57 ,0.59 ,0.60 ,0.57 ])\n",
    "infection_factor = np.mean(tran_coef_before) / np.mean(tran_coef_after)\n",
    "infection_factor = np.log(infection_factor)\n",
    "infection_factor"
   ]
  },
  {
   "cell_type": "code",
   "execution_count": 24,
   "metadata": {},
   "outputs": [],
   "source": [
    "params_jan27 = pkl.load(\n",
    "    open('output/params_after_lockdown.pkl', 'rb')\n",
    ")"
   ]
  },
  {
   "cell_type": "code",
   "execution_count": 25,
   "metadata": {},
   "outputs": [
    {
     "data": {
      "text/plain": [
       "total_population: 9000000\n",
       "initial_num_E: 6000.0\n",
       "initial_num_I: 6000.0\n",
       "initial_num_M: 4000.0\n",
       "\n",
       "alpha: 1.6e-08\n",
       "beta:  1.6000000000000003e-09\n",
       "\n",
       "mu_ei: 6.0\n",
       "\n",
       "x0_pt: 10000\n",
       "k_pt:  0.0001\n",
       "\n",
       "mu_mo: 14.0\n",
       "\n",
       "k_days: 28\n",
       "        "
      ]
     },
     "execution_count": 25,
     "metadata": {},
     "output_type": "execute_result"
    }
   ],
   "source": [
    "params_jan27"
   ]
  },
  {
   "cell_type": "code",
   "execution_count": 26,
   "metadata": {},
   "outputs": [
    {
     "data": {
      "text/plain": [
       "datetime.datetime(2020, 1, 23, 0, 0)"
      ]
     },
     "execution_count": 26,
     "metadata": {},
     "output_type": "execute_result"
    }
   ],
   "source": [
    "lockdown_date = T('23/01/2020')\n",
    "lockdown_date"
   ]
  },
  {
   "cell_type": "code",
   "execution_count": 27,
   "metadata": {},
   "outputs": [
    {
     "data": {
      "text/plain": [
       "array([6000.])"
      ]
     },
     "execution_count": 27,
     "metadata": {},
     "output_type": "execute_result"
    }
   ],
   "source": [
    "target_E = params_jan27.initial_num_E\n",
    "target_I = params_jan27.initial_num_I\n",
    "actual_I = np.array([target_I])\n",
    "actual_I"
   ]
  },
  {
   "cell_type": "code",
   "execution_count": 28,
   "metadata": {},
   "outputs": [],
   "source": [
    "def prepare_params(t):\n",
    "    p = Params(\n",
    "        alpha=[(0, infection_factor * params_jan27.alpha), (t, params_jan27.alpha)],\n",
    "        beta=[(0, infection_factor * params_jan27.beta), (t, params_jan27.beta)],\n",
    "        stages=[t],\n",
    "        initial_num_E=1,\n",
    "        initial_num_I=0,\n",
    "        initial_num_M=0\n",
    "    )\n",
    "    return p\n",
    "        "
   ]
  },
  {
   "cell_type": "code",
   "execution_count": 30,
   "metadata": {},
   "outputs": [
    {
     "data": {
      "text/plain": [
       "datetime.datetime(2020, 1, 13, 0, 0)"
      ]
     },
     "execution_count": 30,
     "metadata": {},
     "output_type": "execute_result"
    }
   ],
   "source": []
  },
  {
   "cell_type": "code",
   "execution_count": 33,
   "metadata": {},
   "outputs": [],
   "source": [
    "bed_info = [(0, 3000)]\n",
    "def one_run(t):\n",
    "    params = prepare_params(t)\n",
    "    # t days **before** lockdown (Jan 23)\n",
    "    # simulation finishes at Jan 27 (after lockdown for 5 days)\n",
    "    # t=1, 2, 3, ... means patient zero  appeared in Jan 22, 21, 20\n",
    "    p0_time = lockdown_date - timedelta(days=t)\n",
    "    \n",
    "    total, _, _, stats = do_simulation(\n",
    "        t+5, bed_info, params, p0_time=p0_time,\n",
    "        verbose=0\n",
    "    )\n",
    "    \n",
    "    pred_I = [total[-1, STATE.I]]\n",
    "    mse = mean_absolute_error(actual_I, pred_I)\n",
    "    return (t, pred_I, mse, stats)"
   ]
  },
  {
   "cell_type": "code",
   "execution_count": 37,
   "metadata": {
    "scrolled": true
   },
   "outputs": [
    {
     "name": "stderr",
     "output_type": "stream",
     "text": [
      "100%|██████████| 31/31 [00:13<00:00,  2.35it/s]\n"
     ]
    }
   ],
   "source": [
    "# t is the number of days back\n",
    "rows = Parallel(n_jobs=-1)(delayed(one_run)(t) for t in tqdm(range(30, 61)))"
   ]
  },
  {
   "cell_type": "code",
   "execution_count": 38,
   "metadata": {},
   "outputs": [],
   "source": [
    "df = pd.DataFrame(rows, columns=('t', 'pred_I', 'mse', 'r0_info'))"
   ]
  },
  {
   "cell_type": "code",
   "execution_count": 39,
   "metadata": {},
   "outputs": [
    {
     "data": {
      "text/html": [
       "<div>\n",
       "<style scoped>\n",
       "    .dataframe tbody tr th:only-of-type {\n",
       "        vertical-align: middle;\n",
       "    }\n",
       "\n",
       "    .dataframe tbody tr th {\n",
       "        vertical-align: top;\n",
       "    }\n",
       "\n",
       "    .dataframe thead th {\n",
       "        text-align: right;\n",
       "    }\n",
       "</style>\n",
       "<table border=\"1\" class=\"dataframe\">\n",
       "  <thead>\n",
       "    <tr style=\"text-align: right;\">\n",
       "      <th></th>\n",
       "      <th>t</th>\n",
       "      <th>pred_I</th>\n",
       "      <th>mse</th>\n",
       "      <th>r0_info</th>\n",
       "    </tr>\n",
       "  </thead>\n",
       "  <tbody>\n",
       "    <tr>\n",
       "      <th>24</th>\n",
       "      <td>54</td>\n",
       "      <td>[5809.922972854338]</td>\n",
       "      <td>190.077027</td>\n",
       "      <td>{'R0_by_stage': {0: (5.140396329080205, 2.3800...</td>\n",
       "    </tr>\n",
       "    <tr>\n",
       "      <th>25</th>\n",
       "      <td>55</td>\n",
       "      <td>[7211.1694068367415]</td>\n",
       "      <td>1211.169407</td>\n",
       "      <td>{'R0_by_stage': {0: (5.1403771590792005, 2.390...</td>\n",
       "    </tr>\n",
       "    <tr>\n",
       "      <th>23</th>\n",
       "      <td>53</td>\n",
       "      <td>[4398.127417378557]</td>\n",
       "      <td>1601.872583</td>\n",
       "      <td>{'R0_by_stage': {0: (5.140406257529534, 2.3713...</td>\n",
       "    </tr>\n",
       "    <tr>\n",
       "      <th>22</th>\n",
       "      <td>52</td>\n",
       "      <td>[3385.7282195867556]</td>\n",
       "      <td>2614.271780</td>\n",
       "      <td>{'R0_by_stage': {0: (5.14040713062412, 2.36386...</td>\n",
       "    </tr>\n",
       "    <tr>\n",
       "      <th>26</th>\n",
       "      <td>56</td>\n",
       "      <td>[9161.82144195592]</td>\n",
       "      <td>3161.821442</td>\n",
       "      <td>{'R0_by_stage': {0: (5.140348353998183, 2.4018...</td>\n",
       "    </tr>\n",
       "  </tbody>\n",
       "</table>\n",
       "</div>"
      ],
      "text/plain": [
       "     t                pred_I          mse  \\\n",
       "24  54   [5809.922972854338]   190.077027   \n",
       "25  55  [7211.1694068367415]  1211.169407   \n",
       "23  53   [4398.127417378557]  1601.872583   \n",
       "22  52  [3385.7282195867556]  2614.271780   \n",
       "26  56    [9161.82144195592]  3161.821442   \n",
       "\n",
       "                                              r0_info  \n",
       "24  {'R0_by_stage': {0: (5.140396329080205, 2.3800...  \n",
       "25  {'R0_by_stage': {0: (5.1403771590792005, 2.390...  \n",
       "23  {'R0_by_stage': {0: (5.140406257529534, 2.3713...  \n",
       "22  {'R0_by_stage': {0: (5.14040713062412, 2.36386...  \n",
       "26  {'R0_by_stage': {0: (5.140348353998183, 2.4018...  "
      ]
     },
     "execution_count": 39,
     "metadata": {},
     "output_type": "execute_result"
    }
   ],
   "source": [
    "df.sort_values(by='mse').head(5)"
   ]
  },
  {
   "cell_type": "code",
   "execution_count": 40,
   "metadata": {
    "scrolled": true
   },
   "outputs": [
    {
     "name": "stdout",
     "output_type": "stream",
     "text": [
      "2019-11-29 00:00:00\n"
     ]
    }
   ],
   "source": [
    "best_t = int(df.sort_values(by='mse').iloc[0].t)\n",
    "p0_time = T('22/01/2020') - timedelta(days=best_t)\n",
    "print(p0_time)"
   ]
  },
  {
   "cell_type": "code",
   "execution_count": 41,
   "metadata": {},
   "outputs": [],
   "source": [
    "pkl.dump(p0_time, open('output/p0_time.pkl', 'wb'))"
   ]
  },
  {
   "cell_type": "code",
   "execution_count": 49,
   "metadata": {},
   "outputs": [
    {
     "name": "stderr",
     "output_type": "stream",
     "text": [
      "100%|██████████| 54/54 [00:09<00:00,  5.50it/s]\n"
     ]
    }
   ],
   "source": [
    "params = copy(params_jan27)\n",
    "params.alpha = infection_factor * params.alpha\n",
    "params.beta = infection_factor * params.beta\n",
    "params.initial_num_E = 1\n",
    "params.initial_num_I = 0\n",
    "params.initial_num_M = 0\n",
    "\n",
    "    \n",
    "total, delta, increase, stats = do_simulation(best_t, bed_info, params, verbose=0,  p0_time=p0_time)"
   ]
  },
  {
   "cell_type": "code",
   "execution_count": 58,
   "metadata": {},
   "outputs": [],
   "source": [
    "save_bundle([total, delta, increase], p0_time, best_t, 'output/tbl/before-lockdown')\n",
    "save_to_json(stats, 'output/tbl/before-lockdown/stat.txt')"
   ]
  },
  {
   "cell_type": "code",
   "execution_count": 44,
   "metadata": {},
   "outputs": [],
   "source": [
    "pkl.dump(\n",
    "    params,\n",
    "    open('output/params_before_lockdown.pkl', 'wb')\n",
    ")"
   ]
  },
  {
   "cell_type": "code",
   "execution_count": 45,
   "metadata": {},
   "outputs": [
    {
     "name": "stderr",
     "output_type": "stream",
     "text": [
      "/home/cloud-user/code/covid-19/helpers.py:271: SettingWithCopyWarning: \n",
      "A value is trying to be set on a copy of a slice from a DataFrame.\n",
      "Try using .loc[row_indexer,col_indexer] = value instead\n",
      "\n",
      "See the caveats in the documentation: http://pandas.pydata.org/pandas-docs/stable/user_guide/indexing.html#returning-a-view-versus-a-copy\n",
      "  O = process_state('O')\n",
      "/home/cloud-user/code/covid-19/helpers.py:272: SettingWithCopyWarning: \n",
      "A value is trying to be set on a copy of a slice from a DataFrame.\n",
      "Try using .loc[row_indexer,col_indexer] = value instead\n",
      "\n",
      "See the caveats in the documentation: http://pandas.pydata.org/pandas-docs/stable/user_guide/indexing.html#returning-a-view-versus-a-copy\n",
      "  H = process_state('H')\n",
      "/home/cloud-user/code/covid-19/helpers.py:274: SettingWithCopyWarning: \n",
      "A value is trying to be set on a copy of a slice from a DataFrame.\n",
      "Try using .loc[row_indexer,col_indexer] = value instead\n",
      "\n",
      "See the caveats in the documentation: http://pandas.pydata.org/pandas-docs/stable/user_guide/indexing.html#returning-a-view-versus-a-copy\n",
      "  \n"
     ]
    },
    {
     "name": "stdout",
     "output_type": "stream",
     "text": [
      "['29/11/19' '10/12/19' '21/12/19' '01/01/20' '12/01/20']\n"
     ]
    },
    {
     "data": {
      "image/png": "[encoded data removed]",
      "text/plain": [
       "<Figure size 432x288 with 1 Axes>"
      ]
     },
     "metadata": {},
     "output_type": "display_data"
    }
   ],
   "source": [
    "fig, ax = plot_total(total, p0_time, best_t)\n",
    "fig.savefig('figs/before-lockdown.pdf')"
   ]
  },
  {
   "cell_type": "code",
   "execution_count": 18,
   "metadata": {},
   "outputs": [
    {
     "data": {
      "text/plain": [
       "{0: (5.140396329080205, 2.380007259349445, 2.6503498884549033),\n",
       " 1: (5.403214272643795, 2.5142550863101634, 1.8424381067784115)}"
      ]
     },
     "execution_count": 18,
     "metadata": {},
     "output_type": "execute_result"
    }
   ],
   "source": [
    "df.sort_values(by='mse').iloc[0]['r0_info']"
   ]
  }
 ],
 "metadata": {
  "kernelspec": {
   "display_name": "Python 3",
   "language": "python",
   "name": "python3"
  },
  "language_info": {
   "codemirror_mode": {
    "name": "ipython",
    "version": 3
   },
   "file_extension": ".py",
   "mimetype": "text/x-python",
   "name": "python",
   "nbconvert_exporter": "python",
   "pygments_lexer": "ipython3",
   "version": "3.6.10"
  }
 },
 "nbformat": 4,
 "nbformat_minor": 2
}
