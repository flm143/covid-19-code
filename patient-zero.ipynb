{
 "cells": [
  {
   "cell_type": "code",
   "execution_count": 191,
   "metadata": {},
   "outputs": [],
   "source": [
    "%matplotlib inline"
   ]
  },
  {
   "cell_type": "code",
   "execution_count": 192,
   "metadata": {},
   "outputs": [],
   "source": [
    "import numpy as np\n",
    "import pandas as pd\n",
    "import pickle as pkl\n",
    "from itertools import product\n",
    "from sklearn.metrics import mean_squared_error, mean_absolute_error\n",
    "from tqdm import tqdm\n",
    "from matplotlib import pyplot as plt\n",
    "from datetime import timedelta\n",
    "from joblib import delayed, Parallel\n",
    "from copy import copy\n",
    "\n",
    "from core import  do_simulation\n",
    "from helpers import Params, T, get_T1_and_T2, R0, plot_total, save_bundle, save_to_json\n",
    "\n",
    "from const import STATE, COLORS, NUM_STATES,  STATES\n"
   ]
  },
  {
   "cell_type": "code",
   "execution_count": 193,
   "metadata": {},
   "outputs": [
    {
     "data": {
      "text/plain": [
       "1.999881671966743"
      ]
     },
     "execution_count": 193,
     "metadata": {},
     "output_type": "execute_result"
    }
   ],
   "source": [
    "tran_coef_before = np.array([4.28, 5.28, 5.33, 4.38, 4.13, 5.27, 5.28, 5.32, 5.15, 5.22, 4.46, 4.20, 5.17, 5.11, 4.91, 4.92, 4.87, 4.04, 4.32, 4.22 , 3.60, 2.88])\n",
    "tran_coef_after = np.array([0.66 ,0.67 ,0.68 ,0.66 ,0.69 ,0.69 ,0.66 ,0.69 ,0.68 ,0.67 ,0.60 ,0.62 ,0.61 ,0.62 ,0.62 ,0.61 ,0.60 ,0.62 ,0.67 ,0.60 ,0.58 ,0.59 ,0.58 ,0.57 ,0.59 ,0.60 ,0.57 ])\n",
    "infection_factor = np.mean(tran_coef_before) / np.mean(tran_coef_after)\n",
    "infection_factor = np.log(infection_factor)\n",
    "infection_factor"
   ]
  },
  {
   "cell_type": "code",
   "execution_count": 194,
   "metadata": {},
   "outputs": [],
   "source": [
    "params_jan27 = pkl.load(\n",
    "    open('output/params_after_lockdown.pkl', 'rb')\n",
    ")"
   ]
  },
  {
   "cell_type": "code",
   "execution_count": 195,
   "metadata": {},
   "outputs": [
    {
     "data": {
      "text/plain": [
       "total_population: 9000000\n",
       "initial_num_E: 5000.0\n",
       "initial_num_I: 5000\n",
       "initial_num_M: 4000.0\n",
       "\n",
       "alpha: 1.5999999999999998e-08\n",
       "beta:  1.7e-09\n",
       "\n",
       "mu_ei: 6\n",
       "\n",
       "x0_pt: 3000\n",
       "k_pt:  0.0005972530000000001\n",
       "\n",
       "mu_mo: 10\n",
       "\n",
       "k_days: 14\n",
       "        "
      ]
     },
     "execution_count": 195,
     "metadata": {},
     "output_type": "execute_result"
    }
   ],
   "source": [
    "params_jan27"
   ]
  },
  {
   "cell_type": "code",
   "execution_count": 196,
   "metadata": {},
   "outputs": [
    {
     "data": {
      "text/plain": [
       "datetime.datetime(2020, 1, 23, 0, 0)"
      ]
     },
     "execution_count": 196,
     "metadata": {},
     "output_type": "execute_result"
    }
   ],
   "source": [
    "lockdown_date = T('23/01/2020')\n",
    "lockdown_date"
   ]
  },
  {
   "cell_type": "code",
   "execution_count": 197,
   "metadata": {},
   "outputs": [
    {
     "data": {
      "text/plain": [
       "(array([5000.]), array([5000]), array([4000.]))"
      ]
     },
     "execution_count": 197,
     "metadata": {},
     "output_type": "execute_result"
    }
   ],
   "source": [
    "target_E = params_jan27.initial_num_E\n",
    "target_I = params_jan27.initial_num_I\n",
    "target_M = params_jan27.initial_num_M\n",
    "\n",
    "actual_I = np.array([target_I])\n",
    "actual_E = np.array([target_E])\n",
    "actual_M = np.array([target_M])\n",
    "\n",
    "actual_E, actual_I, actual_M"
   ]
  },
  {
   "cell_type": "code",
   "execution_count": 218,
   "metadata": {},
   "outputs": [],
   "source": [
    "def prepare_params(t):\n",
    "    p = Params(\n",
    "        alpha=[(0, infection_factor * params_jan27.alpha), (t, params_jan27.alpha)],\n",
    "        beta=[(0, infection_factor * params_jan27.beta), (t, params_jan27.beta)],\n",
    "        stages=[t],\n",
    "        initial_num_E=1,\n",
    "        initial_num_I=0,\n",
    "        initial_num_M=0,\n",
    "        mu_ei=params.mu_ei,\n",
    "        mu_mo=params.mu_mo,\n",
    "        x0_pt=params.x0_pt,\n",
    "        k_days=params.k_days\n",
    "    )\n",
    "    return p\n",
    "        "
   ]
  },
  {
   "cell_type": "code",
   "execution_count": 219,
   "metadata": {},
   "outputs": [],
   "source": [
    "bed_info = [(0, 3000)]\n",
    "def one_run(t):\n",
    "    params = prepare_params(t)\n",
    "    # t days **before** lockdown (Jan 23)\n",
    "    # simulation finishes at Jan 27 (after lockdown for 5 days)\n",
    "    # t=1, 2, 3, ... means patient zero  appeared in Jan 22, 21, 20\n",
    "    p0_time = lockdown_date - timedelta(days=t)\n",
    "    \n",
    "    total, _, _, _, stats = do_simulation(\n",
    "        t+5, bed_info, params, p0_time=p0_time,\n",
    "        verbose=0\n",
    "    )\n",
    "    \n",
    "    pred_I = np.array([total[-1, STATE.I]])\n",
    "    pred_E = np.array([total[-1, STATE.E]])\n",
    "    pred_M = np.array([total[-1, STATE.M]])\n",
    "    \n",
    "    mse_I = mean_absolute_error(actual_I,  pred_I)\n",
    "    mse_E = mean_absolute_error(actual_E, pred_E)\n",
    "    mse_M = mean_absolute_error(actual_M, pred_M)\n",
    "    mse_IM = mean_absolute_error(actual_M + actual_I, pred_M + pred_I)\n",
    "    mse_IEM = mean_absolute_error(actual_I + actual_E + actual_M,  pred_I + pred_E + pred_M)\n",
    "    return (t, actual_I[0], pred_I[0], mse_I, mse_E, mse_M, mse_IM, mse_IEM, stats)"
   ]
  },
  {
   "cell_type": "code",
   "execution_count": 220,
   "metadata": {
    "scrolled": true
   },
   "outputs": [
    {
     "name": "stderr",
     "output_type": "stream",
     "text": [
      "100%|██████████| 31/31 [00:03<00:00,  8.26it/s]\n"
     ]
    }
   ],
   "source": [
    "# t is the number of days back\n",
    "rows = Parallel(n_jobs=-1)(delayed(one_run)(t) for t in tqdm(range(30, 61)))"
   ]
  },
  {
   "cell_type": "code",
   "execution_count": 221,
   "metadata": {},
   "outputs": [],
   "source": [
    "df = pd.DataFrame(rows, columns=('t', 'actual_I', 'pred_I', 'mse_I', 'mse_E', 'mse_M', 'mse_IM', 'mse_IEM', 'r0_info'))"
   ]
  },
  {
   "cell_type": "code",
   "execution_count": 222,
   "metadata": {},
   "outputs": [
    {
     "data": {
      "text/html": [
       "<div>\n",
       "<style scoped>\n",
       "    .dataframe tbody tr th:only-of-type {\n",
       "        vertical-align: middle;\n",
       "    }\n",
       "\n",
       "    .dataframe tbody tr th {\n",
       "        vertical-align: top;\n",
       "    }\n",
       "\n",
       "    .dataframe thead th {\n",
       "        text-align: right;\n",
       "    }\n",
       "</style>\n",
       "<table border=\"1\" class=\"dataframe\">\n",
       "  <thead>\n",
       "    <tr style=\"text-align: right;\">\n",
       "      <th></th>\n",
       "      <th>t</th>\n",
       "      <th>actual_I</th>\n",
       "      <th>pred_I</th>\n",
       "      <th>mse_I</th>\n",
       "      <th>mse_E</th>\n",
       "      <th>mse_M</th>\n",
       "      <th>mse_IM</th>\n",
       "      <th>mse_IEM</th>\n",
       "      <th>r0_info</th>\n",
       "    </tr>\n",
       "  </thead>\n",
       "  <tbody>\n",
       "    <tr>\n",
       "      <th>24</th>\n",
       "      <td>54</td>\n",
       "      <td>5000</td>\n",
       "      <td>4637.226933</td>\n",
       "      <td>362.773067</td>\n",
       "      <td>1168.653543</td>\n",
       "      <td>1207.397048</td>\n",
       "      <td>1570.170115</td>\n",
       "      <td>401.516572</td>\n",
       "      <td>{'R0_by_stage': {0: (5.143549311625715, 1.9865...</td>\n",
       "    </tr>\n",
       "    <tr>\n",
       "      <th>25</th>\n",
       "      <td>55</td>\n",
       "      <td>5000</td>\n",
       "      <td>5756.684184</td>\n",
       "      <td>756.684184</td>\n",
       "      <td>2269.108273</td>\n",
       "      <td>1000.000000</td>\n",
       "      <td>243.315816</td>\n",
       "      <td>2025.792458</td>\n",
       "      <td>{'R0_by_stage': {0: (5.1431327211747755, 2.024...</td>\n",
       "    </tr>\n",
       "    <tr>\n",
       "      <th>23</th>\n",
       "      <td>53</td>\n",
       "      <td>5000</td>\n",
       "      <td>3308.540110</td>\n",
       "      <td>1691.459890</td>\n",
       "      <td>242.781725</td>\n",
       "      <td>1000.000000</td>\n",
       "      <td>2691.459890</td>\n",
       "      <td>2448.678165</td>\n",
       "      <td>{'R0_by_stage': {0: (5.143896124718022, 1.9530...</td>\n",
       "    </tr>\n",
       "    <tr>\n",
       "      <th>22</th>\n",
       "      <td>52</td>\n",
       "      <td>5000</td>\n",
       "      <td>2625.064383</td>\n",
       "      <td>2374.935617</td>\n",
       "      <td>541.578061</td>\n",
       "      <td>1265.197241</td>\n",
       "      <td>3640.132857</td>\n",
       "      <td>4181.710918</td>\n",
       "      <td>{'R0_by_stage': {0: (5.1441820266815945, 1.923...</td>\n",
       "    </tr>\n",
       "    <tr>\n",
       "      <th>26</th>\n",
       "      <td>56</td>\n",
       "      <td>5000</td>\n",
       "      <td>7591.373888</td>\n",
       "      <td>2591.373888</td>\n",
       "      <td>3569.379666</td>\n",
       "      <td>1261.918673</td>\n",
       "      <td>1329.455215</td>\n",
       "      <td>4898.834881</td>\n",
       "      <td>{'R0_by_stage': {0: (5.142636306099425, 2.0674...</td>\n",
       "    </tr>\n",
       "    <tr>\n",
       "      <th>21</th>\n",
       "      <td>51</td>\n",
       "      <td>5000</td>\n",
       "      <td>2106.000291</td>\n",
       "      <td>2893.999709</td>\n",
       "      <td>1207.071899</td>\n",
       "      <td>1549.569099</td>\n",
       "      <td>4443.568808</td>\n",
       "      <td>5650.640707</td>\n",
       "      <td>{'R0_by_stage': {0: (5.14441462515235, 1.89821...</td>\n",
       "    </tr>\n",
       "    <tr>\n",
       "      <th>20</th>\n",
       "      <td>50</td>\n",
       "      <td>5000</td>\n",
       "      <td>1694.251082</td>\n",
       "      <td>3305.748918</td>\n",
       "      <td>1772.047534</td>\n",
       "      <td>1818.889331</td>\n",
       "      <td>5124.638249</td>\n",
       "      <td>6896.685783</td>\n",
       "      <td>{'R0_by_stage': {0: (5.144600281428023, 1.8761...</td>\n",
       "    </tr>\n",
       "    <tr>\n",
       "      <th>19</th>\n",
       "      <td>49</td>\n",
       "      <td>5000</td>\n",
       "      <td>1367.940588</td>\n",
       "      <td>3632.059412</td>\n",
       "      <td>2251.963177</td>\n",
       "      <td>2070.412276</td>\n",
       "      <td>5702.471688</td>\n",
       "      <td>7954.434865</td>\n",
       "      <td>{'R0_by_stage': {0: (5.144744171961296, 1.8570...</td>\n",
       "    </tr>\n",
       "    <tr>\n",
       "      <th>18</th>\n",
       "      <td>48</td>\n",
       "      <td>5000</td>\n",
       "      <td>1109.155814</td>\n",
       "      <td>3890.844186</td>\n",
       "      <td>2659.845973</td>\n",
       "      <td>2302.248978</td>\n",
       "      <td>6193.093163</td>\n",
       "      <td>8852.939136</td>\n",
       "      <td>{'R0_by_stage': {0: (5.144850370406545, 1.8405...</td>\n",
       "    </tr>\n",
       "    <tr>\n",
       "      <th>17</th>\n",
       "      <td>47</td>\n",
       "      <td>5000</td>\n",
       "      <td>903.458083</td>\n",
       "      <td>4096.541917</td>\n",
       "      <td>3006.680440</td>\n",
       "      <td>2513.404983</td>\n",
       "      <td>6609.946899</td>\n",
       "      <td>9616.627339</td>\n",
       "      <td>{'R0_by_stage': {0: (5.1449219314967864, 1.826...</td>\n",
       "    </tr>\n",
       "  </tbody>\n",
       "</table>\n",
       "</div>"
      ],
      "text/plain": [
       "     t  actual_I       pred_I        mse_I        mse_E        mse_M  \\\n",
       "24  54      5000  4637.226933   362.773067  1168.653543  1207.397048   \n",
       "25  55      5000  5756.684184   756.684184  2269.108273  1000.000000   \n",
       "23  53      5000  3308.540110  1691.459890   242.781725  1000.000000   \n",
       "22  52      5000  2625.064383  2374.935617   541.578061  1265.197241   \n",
       "26  56      5000  7591.373888  2591.373888  3569.379666  1261.918673   \n",
       "21  51      5000  2106.000291  2893.999709  1207.071899  1549.569099   \n",
       "20  50      5000  1694.251082  3305.748918  1772.047534  1818.889331   \n",
       "19  49      5000  1367.940588  3632.059412  2251.963177  2070.412276   \n",
       "18  48      5000  1109.155814  3890.844186  2659.845973  2302.248978   \n",
       "17  47      5000   903.458083  4096.541917  3006.680440  2513.404983   \n",
       "\n",
       "         mse_IM      mse_IEM  \\\n",
       "24  1570.170115   401.516572   \n",
       "25   243.315816  2025.792458   \n",
       "23  2691.459890  2448.678165   \n",
       "22  3640.132857  4181.710918   \n",
       "26  1329.455215  4898.834881   \n",
       "21  4443.568808  5650.640707   \n",
       "20  5124.638249  6896.685783   \n",
       "19  5702.471688  7954.434865   \n",
       "18  6193.093163  8852.939136   \n",
       "17  6609.946899  9616.627339   \n",
       "\n",
       "                                              r0_info  \n",
       "24  {'R0_by_stage': {0: (5.143549311625715, 1.9865...  \n",
       "25  {'R0_by_stage': {0: (5.1431327211747755, 2.024...  \n",
       "23  {'R0_by_stage': {0: (5.143896124718022, 1.9530...  \n",
       "22  {'R0_by_stage': {0: (5.1441820266815945, 1.923...  \n",
       "26  {'R0_by_stage': {0: (5.142636306099425, 2.0674...  \n",
       "21  {'R0_by_stage': {0: (5.14441462515235, 1.89821...  \n",
       "20  {'R0_by_stage': {0: (5.144600281428023, 1.8761...  \n",
       "19  {'R0_by_stage': {0: (5.144744171961296, 1.8570...  \n",
       "18  {'R0_by_stage': {0: (5.144850370406545, 1.8405...  \n",
       "17  {'R0_by_stage': {0: (5.1449219314967864, 1.826...  "
      ]
     },
     "execution_count": 222,
     "metadata": {},
     "output_type": "execute_result"
    }
   ],
   "source": [
    "df.sort_values(by='mse_I').head(10)"
   ]
  },
  {
   "cell_type": "code",
   "execution_count": 223,
   "metadata": {
    "scrolled": true
   },
   "outputs": [
    {
     "name": "stdout",
     "output_type": "stream",
     "text": [
      "2019-11-28 00:00:00\n"
     ]
    }
   ],
   "source": [
    "best_t = int(df.sort_values(by='mse_IM').iloc[0].t)\n",
    "p0_time = T('22/01/2020') - timedelta(days=best_t)\n",
    "print(p0_time)"
   ]
  },
  {
   "cell_type": "code",
   "execution_count": 225,
   "metadata": {},
   "outputs": [],
   "source": [
    "df.to_csv('output/tbl/p0-time/error.csv', index=False)"
   ]
  },
  {
   "cell_type": "code",
   "execution_count": 226,
   "metadata": {},
   "outputs": [],
   "source": [
    "pkl.dump(p0_time, open('output/p0_time.pkl', 'wb'))"
   ]
  },
  {
   "cell_type": "code",
   "execution_count": 227,
   "metadata": {},
   "outputs": [],
   "source": [
    "params = copy(params_jan27)\n",
    "params.alpha = infection_factor * params.alpha\n",
    "params.beta = infection_factor * params.beta\n",
    "params.initial_num_E = 1\n",
    "params.initial_num_I = 0\n",
    "params.initial_num_M = 0\n",
    "\n",
    "    \n",
    "total, delta, increase, trans, stats = do_simulation(best_t, bed_info, params, verbose=0,  p0_time=p0_time)"
   ]
  },
  {
   "cell_type": "code",
   "execution_count": 228,
   "metadata": {},
   "outputs": [],
   "source": [
    "save_bundle([total, delta, increase, trans], p0_time, best_t, 'output/tbl/before-lockdown')\n",
    "save_to_json(stats, 'output/tbl/before-lockdown/stat.txt')"
   ]
  },
  {
   "cell_type": "code",
   "execution_count": 229,
   "metadata": {},
   "outputs": [],
   "source": [
    "pkl.dump(\n",
    "    params,\n",
    "    open('output/params_before_lockdown.pkl', 'wb')\n",
    ")"
   ]
  },
  {
   "cell_type": "code",
   "execution_count": 230,
   "metadata": {},
   "outputs": [
    {
     "name": "stderr",
     "output_type": "stream",
     "text": [
      "/home/cloud-user/code/covid-19/helpers.py:285: SettingWithCopyWarning: \n",
      "A value is trying to be set on a copy of a slice from a DataFrame.\n",
      "Try using .loc[row_indexer,col_indexer] = value instead\n",
      "\n",
      "See the caveats in the documentation: http://pandas.pydata.org/pandas-docs/stable/user_guide/indexing.html#returning-a-view-versus-a-copy\n",
      "  subdf['index'] = df.index\n",
      "/home/cloud-user/code/covid-19/helpers.py:286: SettingWithCopyWarning: \n",
      "A value is trying to be set on a copy of a slice from a DataFrame.\n",
      "Try using .loc[row_indexer,col_indexer] = value instead\n",
      "\n",
      "See the caveats in the documentation: http://pandas.pydata.org/pandas-docs/stable/user_guide/indexing.html#returning-a-view-versus-a-copy\n",
      "  subdf['value'] = subdf[state].copy()\n",
      "/home/cloud-user/code/covid-19/helpers.py:288: SettingWithCopyWarning: \n",
      "A value is trying to be set on a copy of a slice from a DataFrame.\n",
      "Try using .loc[row_indexer,col_indexer] = value instead\n",
      "\n",
      "See the caveats in the documentation: http://pandas.pydata.org/pandas-docs/stable/user_guide/indexing.html#returning-a-view-versus-a-copy\n",
      "  subdf['state'] = state\n"
     ]
    },
    {
     "name": "stdout",
     "output_type": "stream",
     "text": [
      "['28/11/19' '09/12/19' '20/12/19' '31/12/19' '11/01/20' '22/01/20']\n"
     ]
    },
    {
     "data": {
      "image/png": "[encoded data removed]",
      "text/plain": [
       "<Figure size 432x288 with 1 Axes>"
      ]
     },
     "metadata": {},
     "output_type": "display_data"
    }
   ],
   "source": [
    "fig, ax = plot_total(total, p0_time, best_t)\n",
    "fig.savefig('figs/before-lockdown.pdf')"
   ]
  }
 ],
 "metadata": {
  "kernelspec": {
   "display_name": "Python 3",
   "language": "python",
   "name": "python3"
  },
  "language_info": {
   "codemirror_mode": {
    "name": "ipython",
    "version": 3
   },
   "file_extension": ".py",
   "mimetype": "text/x-python",
   "name": "python",
   "nbconvert_exporter": "python",
   "pygments_lexer": "ipython3",
   "version": "3.6.10"
  }
 },
 "nbformat": 4,
 "nbformat_minor": 2
}
