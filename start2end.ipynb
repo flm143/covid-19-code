{
 "cells": [
  {
   "cell_type": "code",
   "execution_count": 1,
   "metadata": {},
   "outputs": [],
   "source": [
    "%matplotlib inline"
   ]
  },
  {
   "cell_type": "code",
   "execution_count": 2,
   "metadata": {},
   "outputs": [],
   "source": [
    "import pickle as pkl\n",
    "import pandas as pd\n",
    "from datetime import  datetime, timedelta\n",
    "from copy import copy\n",
    "\n",
    "from core import  do_simulation\n",
    "from helpers import Params, plot_total, T\n",
    "from const import  STATE"
   ]
  },
  {
   "cell_type": "code",
   "execution_count": 3,
   "metadata": {},
   "outputs": [],
   "source": [
    "p0_time = pkl.load(open('output/p0_time.pkl', 'rb'))\n",
    "lockdown_time = T('23/01/2020')"
   ]
  },
  {
   "cell_type": "code",
   "execution_count": 4,
   "metadata": {},
   "outputs": [
    {
     "data": {
      "text/plain": [
       "datetime.datetime(2019, 11, 29, 0, 0)"
      ]
     },
     "execution_count": 4,
     "metadata": {},
     "output_type": "execute_result"
    }
   ],
   "source": [
    "p0_time"
   ]
  },
  {
   "cell_type": "code",
   "execution_count": 5,
   "metadata": {},
   "outputs": [
    {
     "name": "stdout",
     "output_type": "stream",
     "text": [
      "[(0, 3000), (57, 1000), (63, 6000), (67, 1000), (70, 2000), (74, 6000), (80, 11000), (84, 11000)]\n"
     ]
    }
   ],
   "source": [
    "bed_info_raw = [\n",
    "    (p0_time, 3000), # 3000),\n",
    "    (T('25/01/2020'), 1000), # 4000),    \n",
    "    (T('31/01/2020'), 6000), # 10000),\n",
    "    (T('04/02/2020'), 1000), #  11000),\n",
    "    (T('07/02/2020'), 2000), # 13000)\n",
    "    (T('11/02/2020'), 6000),  # 19000\n",
    "    (T('17/02/2020'), 11000),  # 28000\n",
    "    (T('21/02/2020'), 11000),  # 39000\n",
    "]\n",
    "\n",
    "# number of new beds at  some days\n",
    "bed_info = [((d-p0_time).days, n) for d, n in bed_info_raw]\n",
    "print(bed_info)"
   ]
  },
  {
   "cell_type": "code",
   "execution_count": 6,
   "metadata": {},
   "outputs": [],
   "source": [
    "params_before = pkl.load(\n",
    "    open('output/params_before_lockdown.pkl', 'rb')\n",
    ")\n",
    "\n",
    "params_after = pkl.load(\n",
    "    open('output/params_after_lockdown.pkl', 'rb')\n",
    ")"
   ]
  },
  {
   "cell_type": "code",
   "execution_count": 7,
   "metadata": {},
   "outputs": [
    {
     "data": {
      "text/plain": [
       "55"
      ]
     },
     "execution_count": 7,
     "metadata": {},
     "output_type": "execute_result"
    }
   ],
   "source": [
    "days_before_ld  = (lockdown_time -  p0_time).days\n",
    "days_before_ld"
   ]
  },
  {
   "cell_type": "code",
   "execution_count": 8,
   "metadata": {},
   "outputs": [],
   "source": [
    "total_days = 360"
   ]
  },
  {
   "cell_type": "code",
   "execution_count": 9,
   "metadata": {},
   "outputs": [
    {
     "name": "stderr",
     "output_type": "stream",
     "text": [
      "100%|██████████| 360/360 [01:14<00:00,  4.86it/s]\n"
     ]
    }
   ],
   "source": [
    "params = Params(\n",
    "    total_population=params_before.total_population,\n",
    "    initial_num_E=params_before.initial_num_E,\n",
    "    initial_num_I=params_before.initial_num_I,\n",
    "    initial_num_M=params_before.initial_num_M,    \n",
    "    alpha=[(0, params_before.alpha), (days_before_ld, params_after.alpha)],\n",
    "    beta=[(0, params_before.beta), (days_before_ld, params_after.beta)],\n",
    "    stages=[days_before_ld]\n",
    ")\n",
    "\n",
    "total, _, _, r0_info = do_simulation(total_days, bed_info, params, verbose=0)"
   ]
  },
  {
   "cell_type": "code",
   "execution_count": 10,
   "metadata": {},
   "outputs": [
    {
     "data": {
      "text/plain": [
       "datetime.datetime(2020, 11, 23, 0, 0)"
      ]
     },
     "execution_count": 10,
     "metadata": {},
     "output_type": "execute_result"
    }
   ],
   "source": [
    "p0_time + timedelta(days=total_days)"
   ]
  },
  {
   "cell_type": "code",
   "execution_count": 11,
   "metadata": {},
   "outputs": [
    {
     "data": {
      "image/png": "[encoded data removed]",
      "text/plain": [
       "<Figure size 432x288 with 1 Axes>"
      ]
     },
     "metadata": {
      "needs_background": "light"
     },
     "output_type": "display_data"
    }
   ],
   "source": [
    "fig, ax = plot_total(total)\n",
    "fig.savefig('figs/start2end.pdf')"
   ]
  },
  {
   "cell_type": "code",
   "execution_count": 12,
   "metadata": {},
   "outputs": [],
   "source": [
    "df = pd.DataFrame.from_dict({\n",
    "    'date': pd.date_range(p0_time, p0_time+timedelta(days=total_days)), \n",
    "    'S': total[:, STATE.S],\n",
    "    'E': total[:, STATE.E], \n",
    "    'I': total[:, STATE.I], \n",
    "    'M': total[:, STATE.M], \n",
    "    'O': total[:, STATE.O],\n",
    "    'H': total[:, STATE.H]}    \n",
    ")\n",
    "df.to_csv('output/tbl/nov-29-to-end.csv', index=None)"
   ]
  }
 ],
 "metadata": {
  "kernelspec": {
   "display_name": "Python 3",
   "language": "python",
   "name": "python3"
  },
  "language_info": {
   "codemirror_mode": {
    "name": "ipython",
    "version": 3
   },
   "file_extension": ".py",
   "mimetype": "text/x-python",
   "name": "python",
   "nbconvert_exporter": "python",
   "pygments_lexer": "ipython3",
   "version": "3.6.10"
  }
 },
 "nbformat": 4,
 "nbformat_minor": 2
}
