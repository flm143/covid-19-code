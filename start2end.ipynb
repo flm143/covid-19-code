{
 "cells": [
  {
   "cell_type": "code",
   "execution_count": 1,
   "metadata": {},
   "outputs": [],
   "source": [
    "%matplotlib inline"
   ]
  },
  {
   "cell_type": "code",
   "execution_count": 2,
   "metadata": {},
   "outputs": [],
   "source": [
    "import pickle as pkl\n",
    "import pandas as pd\n",
    "from datetime import  datetime, timedelta\n",
    "from copy import copy\n",
    "\n",
    "from core import  do_simulation\n",
    "from helpers import Params, plot_total, T, data2df, enhance_total, save_to_json, save_bundle\n",
    "from const import  STATE"
   ]
  },
  {
   "cell_type": "code",
   "execution_count": 3,
   "metadata": {},
   "outputs": [],
   "source": [
    "p0_time = pkl.load(open('output/p0_time.pkl', 'rb'))\n",
    "lockdown_time = T('23/01/2020')"
   ]
  },
  {
   "cell_type": "code",
   "execution_count": 4,
   "metadata": {},
   "outputs": [
    {
     "data": {
      "text/plain": [
       "datetime.datetime(2019, 11, 28, 0, 0)"
      ]
     },
     "execution_count": 4,
     "metadata": {},
     "output_type": "execute_result"
    }
   ],
   "source": [
    "p0_time"
   ]
  },
  {
   "cell_type": "code",
   "execution_count": 6,
   "metadata": {},
   "outputs": [
    {
     "name": "stdout",
     "output_type": "stream",
     "text": [
      "[(0, 3000), (58, 1000), (64, 6000), (68, 1000), (71, 2000), (75, 6000), (81, 11000), (85, 11000)]\n"
     ]
    }
   ],
   "source": [
    "bed_info_raw = [\n",
    "    (p0_time, 3000), # 3000),\n",
    "    (T('25/01/2020'), 1000), # 4000),    \n",
    "    (T('31/01/2020'), 6000), # 10000),\n",
    "    (T('04/02/2020'), 1000), #  11000),\n",
    "    (T('07/02/2020'), 2000), # 13000)\n",
    "    (T('11/02/2020'), 6000),  # 19000\n",
    "    (T('17/02/2020'), 11000),  # 28000\n",
    "    (T('21/02/2020'), 11000),  # 39000\n",
    "]\n",
    "pkl.dump(bed_info_raw, open('data/bed_info_raw.pkl', 'wb'))\n",
    "# number of new beds at  some days\n",
    "bed_info = [((d-p0_time).days, n) for d, n in bed_info_raw]\n",
    "pkl.dump(bed_info, open('data/bed_info.pkl', 'wb'))\n",
    "print(bed_info)"
   ]
  },
  {
   "cell_type": "code",
   "execution_count": 7,
   "metadata": {},
   "outputs": [],
   "source": [
    "params_before = pkl.load(\n",
    "    open('output/params_before_lockdown.pkl', 'rb')\n",
    ")\n",
    "\n",
    "params_after = pkl.load(\n",
    "    open('output/params_after_lockdown.pkl', 'rb')\n",
    ")"
   ]
  },
  {
   "cell_type": "code",
   "execution_count": 8,
   "metadata": {},
   "outputs": [
    {
     "data": {
      "text/plain": [
       "56"
      ]
     },
     "execution_count": 8,
     "metadata": {},
     "output_type": "execute_result"
    }
   ],
   "source": [
    "days_before_ld  = (lockdown_time -  p0_time).days\n",
    "days_before_ld"
   ]
  },
  {
   "cell_type": "code",
   "execution_count": 9,
   "metadata": {},
   "outputs": [],
   "source": [
    "total_days = 360"
   ]
  },
  {
   "cell_type": "code",
   "execution_count": 10,
   "metadata": {},
   "outputs": [],
   "source": [
    "offset = 14\n",
    "n_offsets = 10\n",
    "days_offsets = list(range(offset, offset*n_offsets+1, offset))\n",
    "fine_grained_alpha = [(0, params_before.alpha), (days_before_ld, params_after.alpha)]\n",
    "fine_grained_alpha += [\n",
    "    (days_before_ld + i, params_after.alpha) for i in days_offsets\n",
    "]\n",
    "fine_grained_beta = [(0, params_before.beta), (days_before_ld, params_after.beta)]\n",
    "fine_grained_beta += [\n",
    "    (days_before_ld + i, params_after.beta) for i in days_offsets\n",
    "]\n"
   ]
  },
  {
   "cell_type": "code",
   "execution_count": 11,
   "metadata": {
    "scrolled": true
   },
   "outputs": [],
   "source": [
    "params = Params(\n",
    "    total_population=params_before.total_population,\n",
    "    initial_num_E=params_before.initial_num_E,\n",
    "    initial_num_I=params_before.initial_num_I,\n",
    "    initial_num_M=params_before.initial_num_M,  \n",
    "    mu_ei=params_after.mu_ei,\n",
    "    mu_mo=params_after.mu_mo,\n",
    "    k_days=params_after.k_days,\n",
    "    x0_pt=params_after.x0_pt,\n",
    "    alpha=fine_grained_alpha,\n",
    "    beta=fine_grained_beta,\n",
    "    stages=[days_before_ld] + [(days_before_ld + i) for i in range(offset, offset*n_offsets+1, offset)]\n",
    ")\n",
    "\n",
    "total, delta, increase, trans_data, stats = do_simulation(total_days, bed_info, params, p0_time=p0_time, verbose=0)"
   ]
  },
  {
   "cell_type": "code",
   "execution_count": 12,
   "metadata": {},
   "outputs": [
    {
     "data": {
      "text/plain": [
       "{'R0_by_stage': {0: (5.142636306099425, 2.067445084735255, 2.637939350215837),\n",
       "  1: (5.824977867131396, 3.8014055724111, 1.9457440033666713),\n",
       "  2: (6.0989464743771515, 4.057828873184425, 1.9948589276289654),\n",
       "  3: (6.189716326333128, 1.0001229028877257, 1.9202598904655022),\n",
       "  4: (6.193187301686083, 1.0000000075442663, 1.9207638019242381),\n",
       "  5: (6.194070765499293, 1.0000000017270587, 1.920892966992439),\n",
       "  6: (6.194630824634389, 1.0000000006857295, 1.9209748494000372),\n",
       "  7: (6.1949848449543286, 1.000000000384163, 1.9210266082949474),\n",
       "  8: (6.195208416380225, 1.000000000266945, 1.921059295149449),\n",
       "  9: (6.195349522703444, 1.0000000002123144, 1.9210799253438624),\n",
       "  10: (6.195438548081464, 1.0000000001838127, 1.9210929411381852),\n",
       "  11: (6.2009538743055765, 1.0000000001587932, 1.9218992994804718)},\n",
       " 'end_time': None,\n",
       " 'peak_time': (72, '08/02/20'),\n",
       " 'when_dO_gt_dI': (73, '09/02/20'),\n",
       " 'when_dO_gt_dE': (72, '08/02/20'),\n",
       " 'turning_time_real': (78, '14/02/20'),\n",
       " 'turning_time_theory': (82, '18/02/20')}"
      ]
     },
     "execution_count": 12,
     "metadata": {},
     "output_type": "execute_result"
    }
   ],
   "source": [
    "stats"
   ]
  },
  {
   "cell_type": "code",
   "execution_count": 13,
   "metadata": {
    "scrolled": true
   },
   "outputs": [
    {
     "data": {
      "text/plain": [
       "total_population: 9000000\n",
       "initial_num_E: 1\n",
       "initial_num_I: 0\n",
       "initial_num_M: 0\n",
       "\n",
       "alpha: [(0, 3.1998106751467885e-08), (56, 1.5999999999999998e-08), (70, 1.5999999999999998e-08), (84, 1.5999999999999998e-08), (98, 1.5999999999999998e-08), (112, 1.5999999999999998e-08), (126, 1.5999999999999998e-08), (140, 1.5999999999999998e-08), (154, 1.5999999999999998e-08), (168, 1.5999999999999998e-08), (182, 1.5999999999999998e-08), (196, 1.5999999999999998e-08)]\n",
       "beta:  [(0, 3.3997988423434626e-09), (56, 1.7e-09), (70, 1.7e-09), (84, 1.7e-09), (98, 1.7e-09), (112, 1.7e-09), (126, 1.7e-09), (140, 1.7e-09), (154, 1.7e-09), (168, 1.7e-09), (182, 1.7e-09), (196, 1.7e-09)]\n",
       "\n",
       "mu_ei: 6\n",
       "\n",
       "x0_pt: 3000\n",
       "k_pt:  0.0005972530000000001\n",
       "\n",
       "mu_mo: 10\n",
       "\n",
       "k_days: 14\n",
       "        "
      ]
     },
     "execution_count": 13,
     "metadata": {},
     "output_type": "execute_result"
    }
   ],
   "source": [
    "params"
   ]
  },
  {
   "cell_type": "code",
   "execution_count": 14,
   "metadata": {},
   "outputs": [
    {
     "data": {
      "text/plain": [
       "{'R0_by_stage': {0: (5.142636306099425, 2.067445084735255, 2.637939350215837),\n",
       "  1: (5.824977867131396, 3.8014055724111, 1.9457440033666713),\n",
       "  2: (6.0989464743771515, 4.057828873184425, 1.9948589276289654),\n",
       "  3: (6.189716326333128, 1.0001229028877257, 1.9202598904655022),\n",
       "  4: (6.193187301686083, 1.0000000075442663, 1.9207638019242381),\n",
       "  5: (6.194070765499293, 1.0000000017270587, 1.920892966992439),\n",
       "  6: (6.194630824634389, 1.0000000006857295, 1.9209748494000372),\n",
       "  7: (6.1949848449543286, 1.000000000384163, 1.9210266082949474),\n",
       "  8: (6.195208416380225, 1.000000000266945, 1.921059295149449),\n",
       "  9: (6.195349522703444, 1.0000000002123144, 1.9210799253438624),\n",
       "  10: (6.195438548081464, 1.0000000001838127, 1.9210929411381852),\n",
       "  11: (6.2009538743055765, 1.0000000001587932, 1.9218992994804718)},\n",
       " 'end_time': None,\n",
       " 'peak_time': (72, '08/02/20'),\n",
       " 'when_dO_gt_dI': (73, '09/02/20'),\n",
       " 'when_dO_gt_dE': (72, '08/02/20'),\n",
       " 'turning_time_real': (78, '14/02/20'),\n",
       " 'turning_time_theory': (82, '18/02/20')}"
      ]
     },
     "execution_count": 14,
     "metadata": {},
     "output_type": "execute_result"
    }
   ],
   "source": [
    "stats"
   ]
  },
  {
   "cell_type": "code",
   "execution_count": 15,
   "metadata": {},
   "outputs": [
    {
     "data": {
      "text/plain": [
       "datetime.datetime(2020, 11, 22, 0, 0)"
      ]
     },
     "execution_count": 15,
     "metadata": {},
     "output_type": "execute_result"
    }
   ],
   "source": [
    "p0_time + timedelta(days=total_days)"
   ]
  },
  {
   "cell_type": "code",
   "execution_count": 16,
   "metadata": {
    "scrolled": false
   },
   "outputs": [
    {
     "name": "stderr",
     "output_type": "stream",
     "text": [
      "/home/cloud-user/code/covid-19/helpers.py:285: SettingWithCopyWarning: \n",
      "A value is trying to be set on a copy of a slice from a DataFrame.\n",
      "Try using .loc[row_indexer,col_indexer] = value instead\n",
      "\n",
      "See the caveats in the documentation: http://pandas.pydata.org/pandas-docs/stable/user_guide/indexing.html#returning-a-view-versus-a-copy\n",
      "  subdf['index'] = df.index\n",
      "/home/cloud-user/code/covid-19/helpers.py:286: SettingWithCopyWarning: \n",
      "A value is trying to be set on a copy of a slice from a DataFrame.\n",
      "Try using .loc[row_indexer,col_indexer] = value instead\n",
      "\n",
      "See the caveats in the documentation: http://pandas.pydata.org/pandas-docs/stable/user_guide/indexing.html#returning-a-view-versus-a-copy\n",
      "  subdf['value'] = subdf[state].copy()\n",
      "/home/cloud-user/code/covid-19/helpers.py:288: SettingWithCopyWarning: \n",
      "A value is trying to be set on a copy of a slice from a DataFrame.\n",
      "Try using .loc[row_indexer,col_indexer] = value instead\n",
      "\n",
      "See the caveats in the documentation: http://pandas.pydata.org/pandas-docs/stable/user_guide/indexing.html#returning-a-view-versus-a-copy\n",
      "  subdf['state'] = state\n"
     ]
    },
    {
     "name": "stdout",
     "output_type": "stream",
     "text": [
      "['28/11/19' '08/02/20' '20/04/20' '01/07/20' '11/09/20' '22/11/20']\n"
     ]
    },
    {
     "data": {
      "image/png": "[encoded data removed]",
      "text/plain": [
       "<Figure size 432x288 with 1 Axes>"
      ]
     },
     "metadata": {},
     "output_type": "display_data"
    }
   ],
   "source": [
    "from helpers import plot_total\n",
    "fig, ax = plot_total(total, p0_time, total_days)\n",
    "fig.savefig('figs/start2end.pdf')"
   ]
  },
  {
   "cell_type": "code",
   "execution_count": 17,
   "metadata": {},
   "outputs": [],
   "source": [
    "save_bundle([total, delta, increase, trans_data], p0_time, total_days, 'output/tbl/start2end')"
   ]
  },
  {
   "cell_type": "code",
   "execution_count": 18,
   "metadata": {},
   "outputs": [],
   "source": [
    "path = 'output/tbl/start2end/stats.txt'\n",
    "save_to_json(stats, path)"
   ]
  }
 ],
 "metadata": {
  "kernelspec": {
   "display_name": "Python 3",
   "language": "python",
   "name": "python3"
  },
  "language_info": {
   "codemirror_mode": {
    "name": "ipython",
    "version": 3
   },
   "file_extension": ".py",
   "mimetype": "text/x-python",
   "name": "python",
   "nbconvert_exporter": "python",
   "pygments_lexer": "ipython3",
   "version": "3.6.10"
  }
 },
 "nbformat": 4,
 "nbformat_minor": 2
}
