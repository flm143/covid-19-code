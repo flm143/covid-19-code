{
 "cells": [
  {
   "cell_type": "code",
   "execution_count": 1,
   "metadata": {},
   "outputs": [],
   "source": [
    "%matplotlib inline"
   ]
  },
  {
   "cell_type": "code",
   "execution_count": 43,
   "metadata": {},
   "outputs": [],
   "source": [
    "import pickle as pkl\n",
    "import pandas as pd\n",
    "from datetime import  datetime, timedelta\n",
    "from copy import copy\n",
    "\n",
    "from core import  do_simulation\n",
    "from helpers import Params, plot_total, T, data2df, enhance_total, save_to_json, save_bundle\n",
    "from const import  STATE"
   ]
  },
  {
   "cell_type": "code",
   "execution_count": 3,
   "metadata": {},
   "outputs": [],
   "source": [
    "p0_time = pkl.load(open('output/p0_time.pkl', 'rb'))\n",
    "lockdown_time = T('23/01/2020')"
   ]
  },
  {
   "cell_type": "code",
   "execution_count": 4,
   "metadata": {},
   "outputs": [
    {
     "data": {
      "text/plain": [
       "datetime.datetime(2019, 11, 29, 0, 0)"
      ]
     },
     "execution_count": 4,
     "metadata": {},
     "output_type": "execute_result"
    }
   ],
   "source": [
    "p0_time"
   ]
  },
  {
   "cell_type": "code",
   "execution_count": 5,
   "metadata": {},
   "outputs": [
    {
     "name": "stdout",
     "output_type": "stream",
     "text": [
      "[(0, 3000), (57, 1000), (63, 6000), (67, 1000), (70, 2000), (74, 6000), (80, 11000), (84, 11000)]\n"
     ]
    }
   ],
   "source": [
    "bed_info_raw = [\n",
    "    (p0_time, 3000), # 3000),\n",
    "    (T('25/01/2020'), 1000), # 4000),    \n",
    "    (T('31/01/2020'), 6000), # 10000),\n",
    "    (T('04/02/2020'), 1000), #  11000),\n",
    "    (T('07/02/2020'), 2000), # 13000)\n",
    "    (T('11/02/2020'), 6000),  # 19000\n",
    "    (T('17/02/2020'), 11000),  # 28000\n",
    "    (T('21/02/2020'), 11000),  # 39000\n",
    "]\n",
    "pkl.dump(bed_info_raw, open('data/bed_info_raw.pkl', 'wb'))\n",
    "# number of new beds at  some days\n",
    "bed_info = [((d-p0_time).days, n) for d, n in bed_info_raw]\n",
    "pkl.dump(bed_info, open('data/bed_info.pkl', 'wb'))\n",
    "print(bed_info)"
   ]
  },
  {
   "cell_type": "code",
   "execution_count": 6,
   "metadata": {},
   "outputs": [],
   "source": [
    "params_before = pkl.load(\n",
    "    open('output/params_before_lockdown.pkl', 'rb')\n",
    ")\n",
    "\n",
    "params_after = pkl.load(\n",
    "    open('output/params_after_lockdown.pkl', 'rb')\n",
    ")"
   ]
  },
  {
   "cell_type": "code",
   "execution_count": 7,
   "metadata": {},
   "outputs": [
    {
     "data": {
      "text/plain": [
       "55"
      ]
     },
     "execution_count": 7,
     "metadata": {},
     "output_type": "execute_result"
    }
   ],
   "source": [
    "days_before_ld  = (lockdown_time -  p0_time).days\n",
    "days_before_ld"
   ]
  },
  {
   "cell_type": "code",
   "execution_count": 8,
   "metadata": {},
   "outputs": [],
   "source": [
    "total_days = 360"
   ]
  },
  {
   "cell_type": "code",
   "execution_count": 25,
   "metadata": {
    "scrolled": false
   },
   "outputs": [
    {
     "name": "stderr",
     "output_type": "stream",
     "text": [
      "\n",
      "  0%|          | 0/360 [00:00<?, ?it/s]\u001b[A\n",
      "  1%|          | 4/360 [00:00<00:13, 26.92it/s]\u001b[A\n",
      "  2%|▏         | 6/360 [00:00<00:15, 22.62it/s]\u001b[A\n",
      "  2%|▏         | 8/360 [00:00<00:18, 18.57it/s]\u001b[A\n",
      "  3%|▎         | 10/360 [00:00<00:22, 15.24it/s]\u001b[A\n",
      "  3%|▎         | 12/360 [00:00<00:27, 12.65it/s]\u001b[A\n",
      "  4%|▍         | 14/360 [00:01<00:29, 11.67it/s]\u001b[A\n",
      "  4%|▍         | 16/360 [00:01<00:32, 10.55it/s]\u001b[A\n",
      "  5%|▍         | 17/360 [00:01<00:35,  9.78it/s]\u001b[A\n",
      "  5%|▌         | 18/360 [00:01<00:37,  9.03it/s]\u001b[A\n",
      "  5%|▌         | 19/360 [00:01<00:40,  8.43it/s]\u001b[A\n",
      "  6%|▌         | 20/360 [00:01<00:43,  7.90it/s]\u001b[A\n",
      "  6%|▌         | 21/360 [00:01<00:45,  7.47it/s]\u001b[A\n",
      "  6%|▌         | 22/360 [00:02<00:47,  7.10it/s]\u001b[A\n",
      "  6%|▋         | 23/360 [00:02<00:50,  6.64it/s]\u001b[A\n",
      "  7%|▋         | 24/360 [00:02<00:52,  6.39it/s]\u001b[A\n",
      "  7%|▋         | 25/360 [00:02<00:54,  6.11it/s]\u001b[A\n",
      "  7%|▋         | 26/360 [00:02<00:56,  5.89it/s]\u001b[A\n",
      "  8%|▊         | 27/360 [00:03<00:59,  5.61it/s]\u001b[A\n",
      "  8%|▊         | 28/360 [00:03<01:02,  5.29it/s]\u001b[A\n",
      "  8%|▊         | 29/360 [00:03<01:05,  5.06it/s]\u001b[A\n",
      "  8%|▊         | 30/360 [00:03<01:07,  4.88it/s]\u001b[A\n",
      "  9%|▊         | 31/360 [00:03<01:08,  4.80it/s]\u001b[A\n",
      "  9%|▉         | 32/360 [00:04<01:08,  4.79it/s]\u001b[A\n",
      "  9%|▉         | 33/360 [00:04<01:08,  4.80it/s]\u001b[A\n",
      "  9%|▉         | 34/360 [00:04<01:18,  4.16it/s]\u001b[A\n",
      " 10%|▉         | 35/360 [00:04<01:22,  3.94it/s]\u001b[A\n",
      " 10%|█         | 36/360 [00:05<01:35,  3.38it/s]\u001b[A\n",
      " 10%|█         | 37/360 [00:05<01:40,  3.22it/s]\u001b[A\n",
      " 11%|█         | 38/360 [00:05<01:37,  3.29it/s]\u001b[A\n",
      " 11%|█         | 39/360 [00:06<01:30,  3.56it/s]\u001b[A\n",
      " 11%|█         | 40/360 [00:06<01:23,  3.83it/s]\u001b[A\n",
      " 11%|█▏        | 41/360 [00:06<01:20,  3.97it/s]\u001b[A\n",
      " 12%|█▏        | 42/360 [00:06<01:17,  4.10it/s]\u001b[A\n",
      " 12%|█▏        | 43/360 [00:07<01:23,  3.78it/s]\u001b[A\n",
      " 12%|█▏        | 44/360 [00:07<01:24,  3.73it/s]\u001b[A\n",
      " 12%|█▎        | 45/360 [00:07<01:25,  3.69it/s]\u001b[A\n",
      " 13%|█▎        | 46/360 [00:07<01:22,  3.80it/s]\u001b[A\n",
      " 13%|█▎        | 47/360 [00:08<01:19,  3.95it/s]\u001b[A\n",
      " 13%|█▎        | 48/360 [00:08<01:15,  4.12it/s]\u001b[A\n",
      " 14%|█▎        | 49/360 [00:08<01:12,  4.28it/s]\u001b[A\n",
      " 14%|█▍        | 50/360 [00:08<01:10,  4.42it/s]\u001b[A\n",
      " 14%|█▍        | 51/360 [00:09<01:08,  4.50it/s]\u001b[A\n",
      " 14%|█▍        | 52/360 [00:09<01:17,  3.99it/s]\u001b[A\n",
      " 15%|█▍        | 53/360 [00:09<01:25,  3.61it/s]\u001b[A\n",
      " 15%|█▌        | 54/360 [00:09<01:24,  3.63it/s]\u001b[A\n",
      " 15%|█▌        | 55/360 [00:10<01:21,  3.76it/s]\u001b[A\n",
      " 16%|█▌        | 56/360 [00:10<01:16,  3.97it/s]\u001b[A\n",
      " 16%|█▌        | 57/360 [00:10<01:12,  4.15it/s]\u001b[A\n",
      " 16%|█▌        | 58/360 [00:10<01:10,  4.29it/s]\u001b[A\n",
      " 16%|█▋        | 59/360 [00:11<01:09,  4.35it/s]\u001b[A\n",
      " 17%|█▋        | 60/360 [00:11<01:08,  4.40it/s]\u001b[A\n",
      " 17%|█▋        | 61/360 [00:11<01:07,  4.44it/s]\u001b[A\n",
      " 17%|█▋        | 62/360 [00:11<01:06,  4.46it/s]\u001b[A\n",
      " 18%|█▊        | 63/360 [00:11<01:06,  4.47it/s]\u001b[A\n",
      " 18%|█▊        | 64/360 [00:12<01:06,  4.47it/s]\u001b[A\n",
      " 18%|█▊        | 65/360 [00:12<01:08,  4.31it/s]\u001b[A\n",
      " 18%|█▊        | 66/360 [00:12<01:28,  3.33it/s]\u001b[A\n",
      " 19%|█▊        | 67/360 [00:13<01:42,  2.86it/s]\u001b[A\n",
      " 19%|█▉        | 68/360 [00:13<01:51,  2.63it/s]\u001b[A\n",
      " 19%|█▉        | 69/360 [00:14<01:56,  2.50it/s]\u001b[A\n",
      " 19%|█▉        | 70/360 [00:14<01:57,  2.46it/s]\u001b[A\n",
      " 20%|█▉        | 71/360 [00:14<01:41,  2.86it/s]\u001b[A\n",
      " 20%|██        | 72/360 [00:15<01:30,  3.19it/s]\u001b[A\n",
      " 20%|██        | 73/360 [00:15<01:21,  3.51it/s]\u001b[A\n",
      " 21%|██        | 74/360 [00:15<01:15,  3.78it/s]\u001b[A\n",
      " 21%|██        | 75/360 [00:15<01:11,  3.97it/s]\u001b[A\n",
      " 21%|██        | 76/360 [00:16<01:13,  3.85it/s]\u001b[A\n",
      " 21%|██▏       | 77/360 [00:16<01:12,  3.89it/s]\u001b[A\n",
      " 22%|██▏       | 78/360 [00:16<01:09,  4.06it/s]\u001b[A\n",
      " 22%|██▏       | 79/360 [00:16<01:10,  3.96it/s]\u001b[A\n",
      " 22%|██▏       | 80/360 [00:17<01:17,  3.63it/s]\u001b[A\n",
      " 22%|██▎       | 81/360 [00:17<01:31,  3.06it/s]\u001b[A\n",
      " 23%|██▎       | 82/360 [00:17<01:24,  3.27it/s]\u001b[A\n",
      " 23%|██▎       | 83/360 [00:18<01:20,  3.46it/s]\u001b[A\n",
      " 23%|██▎       | 84/360 [00:18<01:32,  2.99it/s]\u001b[A\n",
      " 24%|██▎       | 85/360 [00:18<01:28,  3.10it/s]\u001b[A\n",
      " 24%|██▍       | 86/360 [00:19<01:20,  3.42it/s]\u001b[A\n",
      " 24%|██▍       | 87/360 [00:19<01:13,  3.69it/s]\u001b[A\n",
      " 24%|██▍       | 88/360 [00:19<01:09,  3.91it/s]\u001b[A\n",
      " 25%|██▍       | 89/360 [00:19<01:06,  4.09it/s]\u001b[A\n",
      " 25%|██▌       | 90/360 [00:19<01:05,  4.14it/s]\u001b[A\n",
      " 25%|██▌       | 91/360 [00:20<01:03,  4.25it/s]\u001b[A\n",
      " 26%|██▌       | 92/360 [00:20<01:01,  4.34it/s]\u001b[A\n",
      " 26%|██▌       | 93/360 [00:20<01:01,  4.32it/s]\u001b[A\n",
      " 26%|██▌       | 94/360 [00:20<01:00,  4.38it/s]\u001b[A\n",
      " 26%|██▋       | 95/360 [00:21<00:59,  4.42it/s]\u001b[A\n",
      " 27%|██▋       | 96/360 [00:21<00:59,  4.45it/s]\u001b[A\n",
      " 27%|██▋       | 97/360 [00:21<00:58,  4.47it/s]\u001b[A\n",
      " 27%|██▋       | 98/360 [00:21<00:58,  4.48it/s]\u001b[A\n",
      " 28%|██▊       | 99/360 [00:21<00:58,  4.49it/s]\u001b[A\n",
      " 28%|██▊       | 100/360 [00:22<00:57,  4.49it/s]\u001b[A\n",
      " 28%|██▊       | 101/360 [00:22<01:00,  4.25it/s]\u001b[A\n",
      " 28%|██▊       | 102/360 [00:22<01:16,  3.36it/s]\u001b[A\n",
      " 29%|██▊       | 103/360 [00:23<01:29,  2.87it/s]\u001b[A\n",
      " 29%|██▉       | 104/360 [00:23<01:37,  2.61it/s]\u001b[A\n",
      " 29%|██▉       | 105/360 [00:24<01:42,  2.48it/s]\u001b[A\n",
      " 29%|██▉       | 106/360 [00:24<01:32,  2.76it/s]\u001b[A\n",
      " 30%|██▉       | 107/360 [00:24<01:22,  3.08it/s]\u001b[A\n",
      " 30%|███       | 108/360 [00:24<01:15,  3.34it/s]\u001b[A\n",
      " 30%|███       | 109/360 [00:25<01:09,  3.60it/s]\u001b[A\n",
      " 31%|███       | 110/360 [00:25<01:21,  3.06it/s]\u001b[A\n",
      " 31%|███       | 111/360 [00:25<01:20,  3.11it/s]\u001b[A\n",
      " 31%|███       | 112/360 [00:26<01:15,  3.30it/s]\u001b[A\n",
      " 31%|███▏      | 113/360 [00:26<01:10,  3.50it/s]\u001b[A\n",
      " 32%|███▏      | 114/360 [00:26<01:07,  3.67it/s]\u001b[A\n",
      " 32%|███▏      | 115/360 [00:27<01:18,  3.14it/s]\u001b[A\n",
      " 32%|███▏      | 116/360 [00:27<01:10,  3.46it/s]\u001b[A\n",
      " 32%|███▎      | 117/360 [00:27<01:21,  2.98it/s]\u001b[A\n",
      " 33%|███▎      | 118/360 [00:28<01:29,  2.72it/s]\u001b[A\n",
      " 33%|███▎      | 119/360 [00:28<01:37,  2.46it/s]\u001b[A\n",
      " 33%|███▎      | 120/360 [00:29<01:31,  2.62it/s]\u001b[A\n",
      " 34%|███▎      | 121/360 [00:29<01:22,  2.91it/s]\u001b[A\n",
      " 34%|███▍      | 122/360 [00:29<01:14,  3.20it/s]\u001b[A\n",
      " 34%|███▍      | 123/360 [00:29<01:14,  3.19it/s]\u001b[A\n",
      " 34%|███▍      | 124/360 [00:30<01:08,  3.46it/s]\u001b[A\n",
      " 35%|███▍      | 125/360 [00:30<01:15,  3.11it/s]\u001b[A\n",
      " 35%|███▌      | 126/360 [00:30<01:10,  3.32it/s]\u001b[A\n",
      " 35%|███▌      | 127/360 [00:31<01:19,  2.93it/s]\u001b[A\n",
      " 36%|███▌      | 128/360 [00:31<01:22,  2.83it/s]\u001b[A\n",
      " 36%|███▌      | 129/360 [00:32<01:28,  2.61it/s]\u001b[A\n",
      " 36%|███▌      | 130/360 [00:32<01:24,  2.74it/s]\u001b[A\n",
      " 36%|███▋      | 131/360 [00:32<01:14,  3.06it/s]\u001b[A\n",
      " 37%|███▋      | 132/360 [00:33<01:23,  2.72it/s]\u001b[A\n",
      " 37%|███▋      | 133/360 [00:33<01:28,  2.58it/s]\u001b[A\n",
      " 37%|███▋      | 134/360 [00:33<01:27,  2.59it/s]\u001b[A\n",
      " 38%|███▊      | 135/360 [00:34<01:30,  2.48it/s]\u001b[A\n",
      " 38%|███▊      | 136/360 [00:34<01:27,  2.57it/s]\u001b[A\n",
      " 38%|███▊      | 137/360 [00:35<01:32,  2.42it/s]\u001b[A\n",
      " 38%|███▊      | 138/360 [00:35<01:27,  2.54it/s]\u001b[A\n",
      " 39%|███▊      | 139/360 [00:35<01:18,  2.83it/s]\u001b[A\n",
      " 39%|███▉      | 140/360 [00:36<01:15,  2.90it/s]\u001b[A\n",
      " 39%|███▉      | 141/360 [00:36<01:10,  3.12it/s]\u001b[A\n",
      " 39%|███▉      | 142/360 [00:36<01:06,  3.27it/s]\u001b[A\n",
      " 40%|███▉      | 143/360 [00:37<01:15,  2.87it/s]\u001b[A\n",
      " 40%|████      | 144/360 [00:37<01:13,  2.92it/s]\u001b[A\n",
      " 40%|████      | 145/360 [00:37<01:16,  2.82it/s]\u001b[A\n",
      " 41%|████      | 146/360 [00:38<01:10,  3.05it/s]\u001b[A\n",
      " 41%|████      | 147/360 [00:38<01:13,  2.88it/s]\u001b[A\n",
      " 41%|████      | 148/360 [00:38<01:08,  3.11it/s]\u001b[A\n",
      " 41%|████▏     | 149/360 [00:38<01:00,  3.47it/s]\u001b[A\n",
      " 42%|████▏     | 150/360 [00:39<00:55,  3.77it/s]\u001b[A\n",
      " 42%|████▏     | 151/360 [00:39<00:52,  4.01it/s]\u001b[A\n",
      " 42%|████▏     | 152/360 [00:39<00:49,  4.18it/s]\u001b[A\n",
      " 42%|████▎     | 153/360 [00:39<00:48,  4.29it/s]\u001b[A\n",
      " 43%|████▎     | 154/360 [00:39<00:46,  4.39it/s]\u001b[A\n",
      " 43%|████▎     | 155/360 [00:40<00:45,  4.46it/s]\u001b[A\n",
      " 43%|████▎     | 156/360 [00:40<00:45,  4.52it/s]\u001b[A\n",
      " 44%|████▎     | 157/360 [00:40<00:44,  4.55it/s]\u001b[A\n",
      " 44%|████▍     | 158/360 [00:40<00:44,  4.56it/s]\u001b[A\n",
      " 44%|████▍     | 159/360 [00:41<00:43,  4.58it/s]\u001b[A\n",
      " 44%|████▍     | 160/360 [00:41<00:43,  4.59it/s]\u001b[A\n",
      " 45%|████▍     | 161/360 [00:41<00:42,  4.63it/s]\u001b[A\n",
      " 45%|████▌     | 162/360 [00:41<00:42,  4.65it/s]\u001b[A\n",
      " 45%|████▌     | 163/360 [00:41<00:42,  4.68it/s]\u001b[A\n",
      " 46%|████▌     | 164/360 [00:42<00:41,  4.69it/s]\u001b[A\n",
      " 46%|████▌     | 165/360 [00:42<00:41,  4.68it/s]\u001b[A\n",
      " 46%|████▌     | 166/360 [00:42<00:41,  4.71it/s]\u001b[A\n",
      " 46%|████▋     | 167/360 [00:42<00:41,  4.70it/s]\u001b[A\n",
      " 47%|████▋     | 168/360 [00:42<00:40,  4.73it/s]\u001b[A\n",
      " 47%|████▋     | 169/360 [00:43<00:40,  4.77it/s]\u001b[A\n",
      " 47%|████▋     | 170/360 [00:43<00:40,  4.71it/s]\u001b[A\n",
      " 48%|████▊     | 171/360 [00:43<00:40,  4.69it/s]\u001b[A\n",
      " 48%|████▊     | 172/360 [00:43<00:40,  4.69it/s]\u001b[A\n",
      " 48%|████▊     | 173/360 [00:44<00:39,  4.68it/s]\u001b[A\n",
      " 48%|████▊     | 174/360 [00:44<00:39,  4.72it/s]\u001b[A\n",
      " 49%|████▊     | 175/360 [00:44<00:38,  4.82it/s]\u001b[A\n",
      " 49%|████▉     | 176/360 [00:44<00:37,  4.89it/s]\u001b[A\n",
      " 49%|████▉     | 177/360 [00:44<00:37,  4.94it/s]\u001b[A\n",
      " 49%|████▉     | 178/360 [00:45<00:36,  4.98it/s]\u001b[A\n",
      " 50%|████▉     | 179/360 [00:45<00:35,  5.03it/s]\u001b[A\n",
      " 50%|█████     | 180/360 [00:45<00:40,  4.50it/s]\u001b[A\n",
      " 50%|█████     | 181/360 [00:45<00:39,  4.59it/s]\u001b[A\n",
      " 51%|█████     | 182/360 [00:45<00:37,  4.73it/s]\u001b[A\n",
      " 51%|█████     | 183/360 [00:46<00:36,  4.83it/s]\u001b[A\n",
      " 51%|█████     | 184/360 [00:46<00:35,  4.92it/s]\u001b[A\n",
      " 51%|█████▏    | 185/360 [00:46<00:43,  4.00it/s]\u001b[A\n",
      " 52%|█████▏    | 186/360 [00:46<00:47,  3.65it/s]\u001b[A\n",
      " 52%|█████▏    | 187/360 [00:47<00:51,  3.34it/s]\u001b[A\n",
      " 52%|█████▏    | 188/360 [00:47<00:55,  3.12it/s]\u001b[A\n",
      " 52%|█████▎    | 189/360 [00:48<00:56,  3.05it/s]\u001b[A\n",
      " 53%|█████▎    | 190/360 [00:48<00:52,  3.27it/s]\u001b[A\n",
      " 53%|█████▎    | 191/360 [00:48<00:46,  3.60it/s]\u001b[A\n",
      " 53%|█████▎    | 192/360 [00:48<00:43,  3.86it/s]\u001b[A\n",
      " 54%|█████▎    | 193/360 [00:48<00:40,  4.08it/s]\u001b[A\n",
      " 54%|█████▍    | 194/360 [00:49<00:39,  4.22it/s]\u001b[A\n",
      " 54%|█████▍    | 195/360 [00:49<00:38,  4.34it/s]\u001b[A\n",
      " 54%|█████▍    | 196/360 [00:49<00:36,  4.44it/s]\u001b[A\n",
      " 55%|█████▍    | 197/360 [00:49<00:36,  4.45it/s]\u001b[A\n",
      " 55%|█████▌    | 198/360 [00:50<00:35,  4.51it/s]\u001b[A\n",
      " 55%|█████▌    | 199/360 [00:50<00:35,  4.54it/s]\u001b[A\n",
      " 56%|█████▌    | 200/360 [00:50<00:34,  4.57it/s]\u001b[A"
     ]
    },
    {
     "name": "stdout",
     "output_type": "stream",
     "text": [
      "O fraction  0.9902724634009719\n"
     ]
    }
   ],
   "source": [
    "params = Params(\n",
    "    total_population=params_before.total_population,\n",
    "    initial_num_E=params_before.initial_num_E,\n",
    "    initial_num_I=params_before.initial_num_I,\n",
    "    initial_num_M=params_before.initial_num_M,    \n",
    "    alpha=[(0, params_before.alpha), (days_before_ld, params_after.alpha)],\n",
    "    beta=[(0, params_before.beta), (days_before_ld, params_after.beta)],\n",
    "    stages=[days_before_ld]\n",
    ")\n",
    "\n",
    "total, delta, increase, stats = do_simulation(total_days, bed_info, params, p0_time=p0_time, verbose=0)"
   ]
  },
  {
   "cell_type": "code",
   "execution_count": 26,
   "metadata": {},
   "outputs": [
    {
     "data": {
      "text/plain": [
       "total_population: 9000000\n",
       "initial_num_E: 1\n",
       "initial_num_I: 0\n",
       "initial_num_M: 0\n",
       "\n",
       "alpha: [(0, 3.199810675146789e-08), (55, 1.6e-08)]\n",
       "beta:  [(0, 3.199810675146789e-09), (55, 1.6000000000000003e-09)]\n",
       "\n",
       "mu_ei: 6.0\n",
       "\n",
       "x0_pt: 10000\n",
       "k_pt:  0.0001\n",
       "\n",
       "mu_mo: 14.0\n",
       "\n",
       "k_days: 28\n",
       "        "
      ]
     },
     "execution_count": 26,
     "metadata": {},
     "output_type": "execute_result"
    }
   ],
   "source": [
    "params"
   ]
  },
  {
   "cell_type": "code",
   "execution_count": 27,
   "metadata": {},
   "outputs": [
    {
     "data": {
      "text/plain": [
       "{'R0_by_stage': {0: (5.1403771590792005,\n",
       "   2.390100335739419,\n",
       "   2.6510649337996512),\n",
       "  1: (6.066777404950852, 3.9164607465400274, 1.979282329945617)},\n",
       " 'end_time': (201, '17/06/20'),\n",
       " 'peak_time': (80, '17/02/20'),\n",
       " 'when_dO_gt_dI': (81, '18/02/20'),\n",
       " 'when_dO_gt_dE': (80, '17/02/20'),\n",
       " 'turning_time_real': (88, '25/02/20'),\n",
       " 'turning_time_theory': (91, '28/02/20')}"
      ]
     },
     "execution_count": 27,
     "metadata": {},
     "output_type": "execute_result"
    }
   ],
   "source": [
    "stats"
   ]
  },
  {
   "cell_type": "code",
   "execution_count": 28,
   "metadata": {},
   "outputs": [
    {
     "data": {
      "text/plain": [
       "datetime.datetime(2020, 11, 23, 0, 0)"
      ]
     },
     "execution_count": 28,
     "metadata": {},
     "output_type": "execute_result"
    }
   ],
   "source": [
    "p0_time + timedelta(days=total_days)"
   ]
  },
  {
   "cell_type": "code",
   "execution_count": 29,
   "metadata": {
    "scrolled": false
   },
   "outputs": [
    {
     "name": "stderr",
     "output_type": "stream",
     "text": [
      "/home/cloud-user/code/covid-19/helpers.py:271: SettingWithCopyWarning: \n",
      "A value is trying to be set on a copy of a slice from a DataFrame.\n",
      "Try using .loc[row_indexer,col_indexer] = value instead\n",
      "\n",
      "See the caveats in the documentation: http://pandas.pydata.org/pandas-docs/stable/user_guide/indexing.html#returning-a-view-versus-a-copy\n",
      "  subdf['value'] = subdf[state].copy()\n",
      "/home/cloud-user/code/covid-19/helpers.py:272: SettingWithCopyWarning: \n",
      "A value is trying to be set on a copy of a slice from a DataFrame.\n",
      "Try using .loc[row_indexer,col_indexer] = value instead\n",
      "\n",
      "See the caveats in the documentation: http://pandas.pydata.org/pandas-docs/stable/user_guide/indexing.html#returning-a-view-versus-a-copy\n",
      "  del subdf[state]\n",
      "/home/cloud-user/code/covid-19/helpers.py:274: SettingWithCopyWarning: \n",
      "A value is trying to be set on a copy of a slice from a DataFrame.\n",
      "Try using .loc[row_indexer,col_indexer] = value instead\n",
      "\n",
      "See the caveats in the documentation: http://pandas.pydata.org/pandas-docs/stable/user_guide/indexing.html#returning-a-view-versus-a-copy\n",
      "  return subdf\n"
     ]
    },
    {
     "name": "stdout",
     "output_type": "stream",
     "text": [
      "['29/11/19' '09/02/20' '21/04/20' '02/07/20' '12/09/20' '23/11/20']\n"
     ]
    },
    {
     "data": {
      "image/png": "[encoded data removed]",
      "text/plain": [
       "<Figure size 432x288 with 1 Axes>"
      ]
     },
     "metadata": {},
     "output_type": "display_data"
    }
   ],
   "source": [
    "from helpers import plot_total\n",
    "fig, ax = plot_total(total, p0_time, total_days)\n",
    "fig.savefig('figs/start2end.pdf')"
   ]
  },
  {
   "cell_type": "code",
   "execution_count": 44,
   "metadata": {},
   "outputs": [],
   "source": [
    "save_bundle([total, delta, increase], p0_time, total_days, 'output/tbl/start2end')"
   ]
  },
  {
   "cell_type": "code",
   "execution_count": 45,
   "metadata": {},
   "outputs": [],
   "source": [
    "path = 'output/tbl/start2end/stats.txt'\n",
    "save_to_json(stats, path)"
   ]
  }
 ],
 "metadata": {
  "kernelspec": {
   "display_name": "Python 3",
   "language": "python",
   "name": "python3"
  },
  "language_info": {
   "codemirror_mode": {
    "name": "ipython",
    "version": 3
   },
   "file_extension": ".py",
   "mimetype": "text/x-python",
   "name": "python",
   "nbconvert_exporter": "python",
   "pygments_lexer": "ipython3",
   "version": "3.6.10"
  }
 },
 "nbformat": 4,
 "nbformat_minor": 2
}
