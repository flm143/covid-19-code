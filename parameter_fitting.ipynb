{
 "cells": [
  {
   "cell_type": "code",
   "execution_count": 1,
   "metadata": {},
   "outputs": [],
   "source": [
    "%matplotlib inline"
   ]
  },
  {
   "cell_type": "code",
   "execution_count": 2,
   "metadata": {},
   "outputs": [],
   "source": [
    "import numpy as np\n",
    "import pandas as pd\n",
    "import pickle as pkl\n",
    "from itertools import product\n",
    "from sklearn.metrics import mean_squared_error, mean_absolute_error\n",
    "from tqdm import tqdm\n",
    "from matplotlib import pyplot as plt\n",
    "from joblib import delayed, Parallel\n",
    "\n",
    "from core import  do_simulation\n",
    "from helpers import Params, T, get_T1_and_T2, R0\n",
    "from const import STATE, COLORS, NUM_STATES,  STATES\n"
   ]
  },
  {
   "cell_type": "code",
   "execution_count": 3,
   "metadata": {},
   "outputs": [],
   "source": [
    "df = pd.read_csv('data/wuhan.csv', sep=',')\n",
    "df['date'] = df['date'].apply(T)"
   ]
  },
  {
   "cell_type": "code",
   "execution_count": 4,
   "metadata": {},
   "outputs": [],
   "source": [
    "### ATTENTION\n",
    "# start and end date of date being  fitted\n",
    "start_date = T('27/01/2020')  # T=0\n",
    "end_date = T('09/02/2020')  #"
   ]
  },
  {
   "cell_type": "code",
   "execution_count": 5,
   "metadata": {},
   "outputs": [],
   "source": [
    "subdf = df[(df['date'] > start_date) & (df['date'] < end_date)] \n",
    "\n",
    "I_true = subdf['infected'].values\n",
    "O_true = subdf['death'].values + subdf['cured'].values"
   ]
  },
  {
   "cell_type": "code",
   "execution_count": 6,
   "metadata": {},
   "outputs": [
    {
     "data": {
      "text/plain": [
       "[(0, 4000), (4, 6000), (8, 1000), (11, 2000)]"
      ]
     },
     "execution_count": 6,
     "metadata": {},
     "output_type": "execute_result"
    }
   ],
   "source": [
    "### ATTENTION\n",
    "#  below is the number of new beds on  some days\n",
    "#  it  is increment, not  total number\n",
    "total_days = subdf.shape[0]\n",
    "bed_info_raw = [\n",
    "    (T('27/01/2020'), 4000),\n",
    "    (T('31/01/2020'), 6000), # 10000),\n",
    "    (T('04/02/2020'), 1000), # 11000),\n",
    "    (T('07/02/2020'), 2000), # 13000)\n",
    "    (T('11/02/2020'), 6000),  # 19000\n",
    "    (T('17/02/2020'), 1000),  # 20000\n",
    "]\n",
    "# number of new beds at  some days\n",
    "bed_info = [((d-start_date).days, n) for d, n in bed_info_raw if d < end_date]\n",
    "bed_info"
   ]
  },
  {
   "cell_type": "code",
   "execution_count": 8,
   "metadata": {},
   "outputs": [],
   "source": [
    "from datetime import datetime\n",
    "p0_time = datetime(2020, 1, 27)"
   ]
  },
  {
   "cell_type": "code",
   "execution_count": 9,
   "metadata": {},
   "outputs": [
    {
     "name": "stderr",
     "output_type": "stream",
     "text": [
      "100%|██████████| 486/486 [00:35<00:00, 13.65it/s]\n"
     ]
    }
   ],
   "source": [
    "#### ATTENTION\n",
    "#  below are the parameter search ranges\n",
    "alpha_list = np.arange(1.5,  1.61,  step=0.05) * 1e-08\n",
    "beta_list = np.arange(1.5,  1.61,  step=0.05) * 1e-09\n",
    "\n",
    "# assumption: alpha > beta\n",
    "alpha_beta_choices = [\n",
    "    (alpha,  beta)\n",
    "    for alpha, beta in product(alpha_list, beta_list)\n",
    "    if alpha > beta\n",
    "] \n",
    "num_I_list = np.arange(5000, 10001, step=1000)\n",
    "I2E_factors = [1., 1.5, 2]\n",
    "I2M_factors = [0.25, 0.5, 1.0]\n",
    "\n",
    "k_days_list = [28]\n",
    "\n",
    "mu_ei_list = [6] \n",
    "mu_mo_list = [14]\n",
    "\n",
    "def one_run(initial_num_I, I2E_factor, I2M_factor, alpha, beta, mu_ei, mu_mo, k_days):\n",
    "    initial_num_E = initial_num_I * I2E_factor\n",
    "    initial_num_M = initial_num_I * I2M_factor\n",
    "    initial_num_M = min(bed_info[0][1], initial_num_M)\n",
    "    \n",
    "    params = Params(\n",
    "        initial_num_I=initial_num_I,\n",
    "        initial_num_E=initial_num_E,\n",
    "        initial_num_M=initial_num_M,\n",
    "        alpha=alpha,\n",
    "        beta=beta,\n",
    "        mu_ei=mu_ei,\n",
    "        mu_mo=mu_mo,\n",
    "        k_days=k_days,        \n",
    "    )\n",
    "    total, delta, increase, trans_data, ax = do_simulation(\n",
    "        total_days, bed_info, params, p0_time=p0_time\n",
    "    )\n",
    "    \n",
    "    I_mae = mean_absolute_error(I_true, increase[1:, STATE.I])\n",
    "    O_mae = mean_absolute_error(O_true, increase[1:, STATE.O])\n",
    "\n",
    "    \n",
    "    I_mse = mean_squared_error(I_true, increase[1:, STATE.I])\n",
    "    O_mse = mean_squared_error(O_true, increase[1:, STATE.O])\n",
    "\n",
    "    row = (\n",
    "        initial_num_I, initial_num_E, initial_num_M,\n",
    "        alpha, beta, k_days, mu_ei, mu_mo,\n",
    "        I_mae,  O_mae,  I_mse, O_mse\n",
    "    )\n",
    "    return row\n",
    "    \n",
    "total_num_configs = (\n",
    "    len(num_I_list) \n",
    "    * len(alpha_beta_choices) \n",
    "    * len(I2E_factors) \n",
    "    * len(mu_ei_list) \n",
    "    * len(mu_mo_list) \n",
    "    * len(I2M_factors)\n",
    "    * len(k_days_list)\n",
    ")\n",
    "\n",
    "rows = Parallel(n_jobs=-1)(\n",
    "    delayed(one_run)(num_I, I2E_factor, I2M_factor, alpha, beta, mu_ei, mu_mo, k_days)\n",
    "    for num_I, I2E_factor, I2M_factor, (alpha,  beta), mu_ei, mu_mo, k_days in tqdm(\n",
    "        product(num_I_list, I2E_factors, I2M_factors, alpha_beta_choices, mu_ei_list, mu_mo_list, k_days_list), total=total_num_configs\n",
    "    )\n",
    ")\n",
    "\n"
   ]
  },
  {
   "cell_type": "code",
   "execution_count": 10,
   "metadata": {},
   "outputs": [],
   "source": [
    "df = pd.DataFrame(\n",
    "    rows,\n",
    "    columns=['initial_num_I', 'initial_num_E', 'initial_num_M', 'alpha', 'beta',\n",
    "             'k_days',\n",
    "             'mu_ei', 'mu_mo',\n",
    "             'I_mae', 'O_mae',  'I_mse', 'O_mse']\n",
    ")"
   ]
  },
  {
   "cell_type": "code",
   "execution_count": 11,
   "metadata": {},
   "outputs": [],
   "source": [
    "br = df.sort_values(by='I_mae').iloc[0]\n"
   ]
  },
  {
   "cell_type": "code",
   "execution_count": 14,
   "metadata": {
    "scrolled": true
   },
   "outputs": [
    {
     "name": "stderr",
     "output_type": "stream",
     "text": [
      "\n",
      "  0%|          | 0/162 [00:00<?, ?it/s]\u001b[A\n",
      "  2%|▏         | 3/162 [00:00<00:05, 29.04it/s]\u001b[A"
     ]
    },
    {
     "name": "stdout",
     "output_type": "stream",
     "text": [
      "initial_num_I    6.000000e+03\n",
      "initial_num_E    6.000000e+03\n",
      "initial_num_M    4.000000e+03\n",
      "alpha            1.600000e-08\n",
      "beta             1.600000e-09\n",
      "k_days           2.800000e+01\n",
      "mu_ei            6.000000e+00\n",
      "mu_mo            1.400000e+01\n",
      "I_mae            2.935479e+02\n",
      "O_mae            7.178060e+01\n",
      "I_mse            1.136348e+05\n",
      "O_mse            7.883753e+03\n",
      "Name: 107, dtype: float64\n"
     ]
    },
    {
     "name": "stderr",
     "output_type": "stream",
     "text": [
      "\n",
      "  3%|▎         | 5/162 [00:00<00:07, 21.19it/s]\u001b[A\n",
      "  4%|▍         | 7/162 [00:00<00:08, 18.67it/s]\u001b[A\n",
      "  6%|▌         | 9/162 [00:00<00:09, 16.15it/s]\u001b[A\n",
      "  7%|▋         | 11/162 [00:00<00:10, 13.79it/s]\u001b[A\n",
      "  8%|▊         | 13/162 [00:00<00:12, 11.74it/s]\u001b[A\n",
      "  9%|▉         | 15/162 [00:01<00:13, 10.59it/s]\u001b[A\n",
      " 10%|▉         | 16/162 [00:01<00:14, 10.04it/s]\u001b[A\n",
      " 10%|█         | 17/162 [00:01<00:15,  9.45it/s]\u001b[A\n",
      " 11%|█         | 18/162 [00:01<00:16,  8.98it/s]\u001b[A\n",
      " 12%|█▏        | 19/162 [00:01<00:16,  8.48it/s]\u001b[A\n",
      " 12%|█▏        | 20/162 [00:01<00:17,  8.05it/s]\u001b[A\n",
      " 13%|█▎        | 21/162 [00:02<00:19,  7.22it/s]\u001b[A\n",
      " 14%|█▎        | 22/162 [00:02<00:19,  7.04it/s]\u001b[A\n",
      " 14%|█▍        | 23/162 [00:02<00:20,  6.83it/s]\u001b[A\n",
      " 15%|█▍        | 24/162 [00:02<00:20,  6.59it/s]\u001b[A\n",
      " 15%|█▌        | 25/162 [00:02<00:21,  6.30it/s]\u001b[A\n",
      " 16%|█▌        | 26/162 [00:02<00:22,  6.07it/s]\u001b[A\n",
      " 17%|█▋        | 27/162 [00:03<00:23,  5.86it/s]\u001b[A\n",
      " 17%|█▋        | 28/162 [00:03<00:23,  5.68it/s]\u001b[A\n",
      " 18%|█▊        | 29/162 [00:03<00:24,  5.40it/s]\u001b[A\n",
      " 19%|█▊        | 30/162 [00:03<00:27,  4.86it/s]\u001b[A\n",
      " 19%|█▉        | 31/162 [00:03<00:27,  4.74it/s]\u001b[A\n",
      " 20%|█▉        | 32/162 [00:04<00:26,  4.91it/s]\u001b[A\n",
      " 20%|██        | 33/162 [00:04<00:25,  5.04it/s]\u001b[A\n",
      " 21%|██        | 34/162 [00:04<00:24,  5.12it/s]\u001b[A\n",
      " 22%|██▏       | 35/162 [00:04<00:24,  5.20it/s]\u001b[A\n",
      " 22%|██▏       | 36/162 [00:04<00:24,  5.24it/s]\u001b[A\n",
      " 23%|██▎       | 37/162 [00:05<00:23,  5.28it/s]\u001b[A\n",
      " 23%|██▎       | 38/162 [00:05<00:23,  5.31it/s]\u001b[A\n",
      " 24%|██▍       | 39/162 [00:05<00:23,  5.31it/s]\u001b[A\n",
      " 25%|██▍       | 40/162 [00:05<00:22,  5.32it/s]\u001b[A\n",
      " 25%|██▌       | 41/162 [00:05<00:22,  5.33it/s]\u001b[A\n",
      " 26%|██▌       | 42/162 [00:05<00:22,  5.31it/s]\u001b[A\n",
      " 27%|██▋       | 43/162 [00:06<00:22,  5.33it/s]\u001b[A\n",
      " 27%|██▋       | 44/162 [00:06<00:22,  5.34it/s]\u001b[A\n",
      " 28%|██▊       | 45/162 [00:06<00:21,  5.34it/s]\u001b[A\n",
      " 28%|██▊       | 46/162 [00:06<00:21,  5.35it/s]\u001b[A\n",
      " 29%|██▉       | 47/162 [00:06<00:21,  5.35it/s]\u001b[A\n",
      " 30%|██▉       | 48/162 [00:07<00:21,  5.35it/s]\u001b[A\n",
      " 30%|███       | 49/162 [00:07<00:21,  5.36it/s]\u001b[A\n",
      " 31%|███       | 50/162 [00:07<00:20,  5.34it/s]\u001b[A\n",
      " 31%|███▏      | 51/162 [00:07<00:20,  5.36it/s]\u001b[A\n",
      " 32%|███▏      | 52/162 [00:07<00:20,  5.36it/s]\u001b[A\n",
      " 33%|███▎      | 53/162 [00:08<00:20,  5.37it/s]\u001b[A\n",
      " 33%|███▎      | 54/162 [00:08<00:20,  5.37it/s]\u001b[A\n",
      " 34%|███▍      | 55/162 [00:08<00:19,  5.36it/s]\u001b[A\n",
      " 35%|███▍      | 56/162 [00:08<00:19,  5.36it/s]\u001b[A\n",
      " 35%|███▌      | 57/162 [00:08<00:19,  5.34it/s]\u001b[A\n",
      " 36%|███▌      | 58/162 [00:08<00:19,  5.35it/s]\u001b[A\n",
      " 36%|███▋      | 59/162 [00:09<00:19,  5.36it/s]\u001b[A\n",
      " 37%|███▋      | 60/162 [00:09<00:22,  4.44it/s]\u001b[A\n",
      " 38%|███▊      | 61/162 [00:09<00:24,  4.07it/s]\u001b[A\n",
      " 38%|███▊      | 62/162 [00:10<00:25,  3.91it/s]\u001b[A\n",
      " 39%|███▉      | 63/162 [00:10<00:24,  4.02it/s]\u001b[A\n",
      " 40%|███▉      | 64/162 [00:10<00:23,  4.09it/s]\u001b[A\n",
      " 40%|████      | 65/162 [00:10<00:22,  4.39it/s]\u001b[A\n",
      " 41%|████      | 66/162 [00:10<00:20,  4.64it/s]\u001b[A\n",
      " 41%|████▏     | 67/162 [00:11<00:19,  4.80it/s]\u001b[A\n",
      " 42%|████▏     | 68/162 [00:11<00:18,  4.97it/s]\u001b[A\n",
      " 43%|████▎     | 69/162 [00:11<00:18,  5.08it/s]\u001b[A\n",
      " 43%|████▎     | 70/162 [00:11<00:17,  5.16it/s]\u001b[A\n",
      " 44%|████▍     | 71/162 [00:11<00:17,  5.23it/s]\u001b[A\n",
      " 44%|████▍     | 72/162 [00:12<00:20,  4.39it/s]\u001b[A\n",
      " 45%|████▌     | 73/162 [00:12<00:21,  4.05it/s]\u001b[A\n",
      " 46%|████▌     | 74/162 [00:12<00:21,  4.07it/s]\u001b[A\n",
      " 46%|████▋     | 75/162 [00:12<00:19,  4.38it/s]\u001b[A\n",
      " 47%|████▋     | 76/162 [00:13<00:18,  4.64it/s]\u001b[A\n",
      " 48%|████▊     | 77/162 [00:13<00:21,  4.05it/s]\u001b[A\n",
      " 48%|████▊     | 78/162 [00:13<00:21,  3.82it/s]\u001b[A\n",
      " 49%|████▉     | 79/162 [00:13<00:21,  3.86it/s]\u001b[A\n",
      " 49%|████▉     | 80/162 [00:14<00:20,  3.96it/s]\u001b[A\n",
      " 50%|█████     | 81/162 [00:14<00:18,  4.30it/s]\u001b[A\n",
      " 51%|█████     | 82/162 [00:14<00:17,  4.56it/s]\u001b[A\n",
      " 51%|█████     | 83/162 [00:14<00:16,  4.73it/s]\u001b[A\n",
      " 52%|█████▏    | 84/162 [00:14<00:16,  4.85it/s]\u001b[A\n",
      " 52%|█████▏    | 85/162 [00:15<00:15,  4.96it/s]\u001b[A\n",
      " 53%|█████▎    | 86/162 [00:15<00:15,  5.05it/s]\u001b[A\n",
      " 54%|█████▎    | 87/162 [00:15<00:14,  5.08it/s]\u001b[A\n",
      " 54%|█████▍    | 88/162 [00:15<00:14,  5.11it/s]\u001b[A\n",
      " 55%|█████▍    | 89/162 [00:15<00:14,  5.17it/s]\u001b[A\n",
      " 56%|█████▌    | 90/162 [00:16<00:13,  5.20it/s]\u001b[A\n",
      " 56%|█████▌    | 91/162 [00:16<00:13,  5.22it/s]\u001b[A\n",
      " 57%|█████▋    | 92/162 [00:16<00:13,  5.23it/s]\u001b[A\n",
      " 57%|█████▋    | 93/162 [00:16<00:13,  5.18it/s]\u001b[A\n",
      " 58%|█████▊    | 94/162 [00:16<00:13,  5.18it/s]\u001b[A\n",
      " 59%|█████▊    | 95/162 [00:16<00:12,  5.20it/s]\u001b[A\n",
      " 59%|█████▉    | 96/162 [00:17<00:13,  4.89it/s]\u001b[A\n",
      " 60%|█████▉    | 97/162 [00:17<00:15,  4.11it/s]\u001b[A\n",
      " 60%|██████    | 98/162 [00:17<00:16,  3.97it/s]\u001b[A\n",
      " 61%|██████    | 99/162 [00:18<00:16,  3.90it/s]\u001b[A\n",
      " 62%|██████▏   | 100/162 [00:18<00:15,  3.99it/s]\u001b[A\n",
      " 62%|██████▏   | 101/162 [00:18<00:14,  4.16it/s]\u001b[A\n",
      " 63%|██████▎   | 102/162 [00:18<00:14,  4.21it/s]\u001b[A\n",
      " 64%|██████▎   | 103/162 [00:18<00:13,  4.37it/s]\u001b[A\n",
      " 64%|██████▍   | 104/162 [00:19<00:12,  4.55it/s]\u001b[A\n",
      " 65%|██████▍   | 105/162 [00:19<00:12,  4.66it/s]\u001b[A\n",
      " 65%|██████▌   | 106/162 [00:19<00:12,  4.65it/s]\u001b[A\n",
      " 66%|██████▌   | 107/162 [00:19<00:11,  4.59it/s]\u001b[A\n",
      " 67%|██████▋   | 108/162 [00:20<00:11,  4.55it/s]\u001b[A\n",
      " 67%|██████▋   | 109/162 [00:20<00:11,  4.50it/s]\u001b[A\n",
      " 68%|██████▊   | 110/162 [00:20<00:11,  4.48it/s]\u001b[A\n",
      " 69%|██████▊   | 111/162 [00:20<00:11,  4.42it/s]\u001b[A\n",
      " 69%|██████▉   | 112/162 [00:20<00:11,  4.47it/s]\u001b[A\n",
      " 70%|██████▉   | 113/162 [00:21<00:10,  4.50it/s]\u001b[A\n",
      " 70%|███████   | 114/162 [00:21<00:10,  4.47it/s]\u001b[A\n",
      " 71%|███████   | 115/162 [00:21<00:10,  4.31it/s]\u001b[A\n",
      " 72%|███████▏  | 116/162 [00:21<00:11,  3.97it/s]\u001b[A\n",
      " 72%|███████▏  | 117/162 [00:22<00:11,  3.92it/s]\u001b[A\n",
      " 73%|███████▎  | 118/162 [00:22<00:11,  3.89it/s]\u001b[A\n",
      " 73%|███████▎  | 119/162 [00:22<00:10,  3.97it/s]\u001b[A\n",
      " 74%|███████▍  | 120/162 [00:22<00:10,  4.09it/s]\u001b[A\n",
      " 75%|███████▍  | 121/162 [00:23<00:09,  4.25it/s]\u001b[A\n",
      " 75%|███████▌  | 122/162 [00:23<00:09,  4.39it/s]\u001b[A\n",
      " 76%|███████▌  | 123/162 [00:23<00:08,  4.45it/s]\u001b[A\n",
      " 77%|███████▋  | 124/162 [00:23<00:08,  4.41it/s]\u001b[A\n",
      " 77%|███████▋  | 125/162 [00:24<00:08,  4.47it/s]\u001b[A\n",
      " 78%|███████▊  | 126/162 [00:24<00:07,  4.60it/s]\u001b[A\n",
      " 78%|███████▊  | 127/162 [00:24<00:07,  4.59it/s]\u001b[A\n",
      " 79%|███████▉  | 128/162 [00:24<00:07,  4.59it/s]\u001b[A\n",
      " 80%|███████▉  | 129/162 [00:24<00:07,  4.69it/s]\u001b[A\n",
      " 80%|████████  | 130/162 [00:25<00:07,  4.08it/s]\u001b[A\n",
      " 81%|████████  | 131/162 [00:25<00:07,  3.96it/s]\u001b[A\n",
      " 81%|████████▏ | 132/162 [00:25<00:07,  3.80it/s]\u001b[A\n",
      " 82%|████████▏ | 133/162 [00:26<00:07,  3.76it/s]\u001b[A\n",
      " 83%|████████▎ | 134/162 [00:26<00:07,  3.78it/s]\u001b[A\n",
      " 83%|████████▎ | 135/162 [00:26<00:07,  3.81it/s]\u001b[A\n",
      " 84%|████████▍ | 136/162 [00:26<00:06,  4.00it/s]\u001b[A\n",
      " 85%|████████▍ | 137/162 [00:26<00:05,  4.17it/s]\u001b[A\n",
      " 85%|████████▌ | 138/162 [00:27<00:06,  3.93it/s]\u001b[A\n",
      " 86%|████████▌ | 139/162 [00:27<00:06,  3.68it/s]\u001b[A\n",
      " 86%|████████▋ | 140/162 [00:27<00:06,  3.49it/s]\u001b[A\n",
      " 87%|████████▋ | 141/162 [00:28<00:06,  3.29it/s]\u001b[A\n",
      " 88%|████████▊ | 142/162 [00:28<00:06,  3.19it/s]\u001b[A\n",
      " 88%|████████▊ | 143/162 [00:28<00:05,  3.24it/s]\u001b[A\n",
      " 89%|████████▉ | 144/162 [00:29<00:05,  3.23it/s]\u001b[A\n",
      " 90%|████████▉ | 145/162 [00:29<00:05,  3.18it/s]\u001b[A\n",
      " 90%|█████████ | 146/162 [00:29<00:04,  3.31it/s]\u001b[A\n",
      " 91%|█████████ | 147/162 [00:29<00:04,  3.69it/s]\u001b[A\n",
      " 91%|█████████▏| 148/162 [00:30<00:03,  3.99it/s]\u001b[A\n",
      " 92%|█████████▏| 149/162 [00:30<00:03,  4.26it/s]\u001b[A\n",
      " 93%|█████████▎| 150/162 [00:30<00:02,  4.47it/s]\u001b[A\n",
      " 93%|█████████▎| 151/162 [00:30<00:02,  4.59it/s]\u001b[A\n",
      " 94%|█████████▍| 152/162 [00:30<00:02,  4.70it/s]\u001b[A\n",
      " 94%|█████████▍| 153/162 [00:31<00:01,  4.78it/s]\u001b[A\n",
      " 95%|█████████▌| 154/162 [00:31<00:01,  4.76it/s]\u001b[A\n",
      " 96%|█████████▌| 155/162 [00:31<00:01,  4.77it/s]\u001b[A"
     ]
    },
    {
     "name": "stdout",
     "output_type": "stream",
     "text": [
      "O fraction  0.9902159860540781\n"
     ]
    },
    {
     "data": {
      "image/png": "[encoded data removed]",
      "text/plain": [
       "<Figure size 432x288 with 1 Axes>"
      ]
     },
     "metadata": {
      "needs_background": "light"
     },
     "output_type": "display_data"
    },
    {
     "data": {
      "image/png": "[encoded data removed]",
      "text/plain": [
       "<Figure size 432x288 with 1 Axes>"
      ]
     },
     "metadata": {
      "needs_background": "light"
     },
     "output_type": "display_data"
    }
   ],
   "source": [
    "# number of new beds at  some days\n",
    "bed_info = [((d-start_date).days, n) for d, n in bed_info_raw]\n",
    "bed_info\n",
    "\n",
    "print(br)\n",
    "\n",
    "params = Params(\n",
    "    initial_num_I=br.initial_num_I, \n",
    "    initial_num_E=br.initial_num_E,\n",
    "    initial_num_M=br.initial_num_M,\n",
    "    alpha=br.alpha, beta=br.beta,\n",
    "    mu_ei=br.mu_ei, mu_mo=br.mu_mo,\n",
    "    k_days=int(br.k_days)\n",
    ")\n",
    "total, delta, increase, trans_data, aux = do_simulation(total_days+150, bed_info, params, p0_time=p0_time)    \n",
    "\n",
    "fig, ax = plt.subplots(1, 1)\n",
    "\n",
    "ax.plot(increase[1:, STATE.I], 's-', color='red')\n",
    "ax.plot(I_true, '-.', color='red')\n",
    "fig.legend(['predicted I (increase)', 'actual I (increase)'])\n",
    "fig.savefig('figs/true_I_vs_pred_I.pdf')\n",
    "\n",
    "# fig, ax = plt.subplots(1, 1)\n",
    "\n",
    "# ax.plot(increase[1:, STATE.O], 's-', color='red')\n",
    "# ax.plot(O_true, '-.', color='red')\n",
    "# fig.legend(['predicted O (increase)', 'actual O (increase)'])\n",
    "# fig.savefig('figs/true_O_vs_pred_O.pdf')\n",
    "\n",
    "fig, ax = plt.subplots(1, 1)\n",
    "for color, s in zip(COLORS[1:], range(1, NUM_STATES)):\n",
    "    ax.plot(total[:, s], c=color)\n",
    "fig.legend(STATES[1:])\n",
    "fig.savefig('figs/Jan27-final.pdf')"
   ]
  },
  {
   "cell_type": "code",
   "execution_count": 14,
   "metadata": {},
   "outputs": [
    {
     "name": "stdout",
     "output_type": "stream",
     "text": [
      "total_population: 9000000\n",
      "initial_num_E: 6000.0\n",
      "initial_num_I: 6000.0\n",
      "initial_num_M: 4000.0\n",
      "\n",
      "alpha: 1.6e-08\n",
      "beta:  1.6000000000000003e-09\n",
      "\n",
      "mu_ei: 6.0\n",
      "\n",
      "x0_pt: 10000\n",
      "k_pt:  0.0001\n",
      "\n",
      "mu_mo: 14.0\n",
      "\n",
      "k_days: 28\n",
      "        \n"
     ]
    }
   ],
   "source": [
    "print(params)"
   ]
  },
  {
   "cell_type": "code",
   "execution_count": 15,
   "metadata": {},
   "outputs": [],
   "source": [
    "pkl.dump(\n",
    "    params,\n",
    "    open('output/params_after_lockdown.pkl', 'wb')\n",
    ")"
   ]
  },
  {
   "cell_type": "code",
   "execution_count": 18,
   "metadata": {},
   "outputs": [
    {
     "name": "stderr",
     "output_type": "stream",
     "text": [
      "100%|██████████| 30/30 [00:03<00:00,  7.56it/s]"
     ]
    },
    {
     "name": "stdout",
     "output_type": "stream",
     "text": [
      "T1=5.821102553833502, T2=5.637780575044747, R0=1.9874744179186468\n"
     ]
    },
    {
     "name": "stderr",
     "output_type": "stream",
     "text": [
      "\n"
     ]
    }
   ],
   "source": [
    "bed_info = [((d-start_date).days, n) for d, n in bed_info_raw]\n",
    "\n",
    "params = Params(\n",
    "    initial_num_I=br.initial_num_I, \n",
    "    initial_num_E=br.initial_num_E,\n",
    "    initial_num_M=br.initial_num_M,\n",
    "    alpha=br.alpha, beta=br.beta,\n",
    "    mu_ei=br.mu_ei, mu_mo=br.mu_mo,\n",
    "    k_days=int(br.k_days)\n",
    ")\n",
    "_, _, _, R0_by_stage = do_simulation(30, bed_info, params)    \n",
    "\n",
    "T1, T2, R0 = R0_by_stage[0]\n",
    "print(f'T1={T1}, T2={T2}, R0={R0}')\n",
    "\n"
   ]
  }
 ],
 "metadata": {
  "kernelspec": {
   "display_name": "Python 3",
   "language": "python",
   "name": "python3"
  },
  "language_info": {
   "codemirror_mode": {
    "name": "ipython",
    "version": 3
   },
   "file_extension": ".py",
   "mimetype": "text/x-python",
   "name": "python",
   "nbconvert_exporter": "python",
   "pygments_lexer": "ipython3",
   "version": "3.6.10"
  }
 },
 "nbformat": 4,
 "nbformat_minor": 2
}
