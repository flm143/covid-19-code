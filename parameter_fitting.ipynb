{
 "cells": [
  {
   "cell_type": "code",
   "execution_count": 1,
   "metadata": {},
   "outputs": [],
   "source": [
    "%matplotlib inline"
   ]
  },
  {
   "cell_type": "code",
   "execution_count": 19,
   "metadata": {},
   "outputs": [],
   "source": [
    "import numpy as np\n",
    "import pandas as pd\n",
    "import pickle as pkl\n",
    "from itertools import product\n",
    "from sklearn.metrics import mean_squared_error, mean_absolute_error\n",
    "from tqdm import tqdm\n",
    "from matplotlib import pyplot as plt\n",
    "from joblib import delayed, Parallel\n",
    "\n",
    "from core import  do_simulation\n",
    "from helpers import Params, T, get_T1_and_T2, R0\n",
    "from const import STATE, COLORS, NUM_STATES,  STATES\n"
   ]
  },
  {
   "cell_type": "code",
   "execution_count": 3,
   "metadata": {},
   "outputs": [],
   "source": [
    "df = pd.read_csv('data/wuhan.csv', sep=',')\n",
    "df['date'] = df['date'].apply(T)"
   ]
  },
  {
   "cell_type": "code",
   "execution_count": 4,
   "metadata": {},
   "outputs": [],
   "source": [
    "### ATTENTION\n",
    "# start and end date of date being  fitted\n",
    "start_date = T('27/01/2020')  # T=0\n",
    "end_date = T('09/02/2020')  #"
   ]
  },
  {
   "cell_type": "code",
   "execution_count": 5,
   "metadata": {},
   "outputs": [],
   "source": [
    "subdf = df[(df['date'] > start_date) & (df['date'] < end_date)] \n",
    "\n",
    "I_true = subdf['infected'].values\n",
    "O_true = subdf['death'].values + subdf['cured'].values"
   ]
  },
  {
   "cell_type": "code",
   "execution_count": 6,
   "metadata": {},
   "outputs": [
    {
     "data": {
      "text/plain": [
       "[(0, 4000), (4, 6000), (8, 1000), (11, 2000)]"
      ]
     },
     "execution_count": 6,
     "metadata": {},
     "output_type": "execute_result"
    }
   ],
   "source": [
    "### ATTENTION\n",
    "#  below is the number of new beds on  some days\n",
    "#  it  is increment, not  total number\n",
    "total_days = subdf.shape[0]\n",
    "bed_info_raw = [\n",
    "    (T('27/01/2020'), 4000),\n",
    "    (T('31/01/2020'), 6000), # 10000),\n",
    "    (T('04/02/2020'), 1000), #  11000),\n",
    "    (T('07/02/2020'), 2000), # 13000)\n",
    "    (T('11/02/2020'), 6000),  # 19000\n",
    "    (T('17/02/2020'), 1000),  # 20000\n",
    "]\n",
    "# number of new beds at  some days\n",
    "bed_info = [((d-start_date).days, n) for d, n in bed_info_raw if d < end_date]\n",
    "bed_info"
   ]
  },
  {
   "cell_type": "code",
   "execution_count": 7,
   "metadata": {},
   "outputs": [
    {
     "name": "stderr",
     "output_type": "stream",
     "text": [
      "100%|██████████| 486/486 [00:36<00:00, 13.35it/s]\n"
     ]
    }
   ],
   "source": [
    "#### ATTENTION\n",
    "#  below are the parameter search ranges\n",
    "alpha_list = np.arange(1.5,  1.61,  step=0.05) * 1e-08\n",
    "beta_list = np.arange(1.5,  1.61,  step=0.05) * 1e-09\n",
    "\n",
    "# assumption: alpha > beta\n",
    "alpha_beta_choices = [\n",
    "    (alpha,  beta)\n",
    "    for alpha, beta in product(alpha_list, beta_list)\n",
    "    if alpha > beta\n",
    "] \n",
    "num_I_list = np.arange(5000, 10001, step=1000)\n",
    "I2E_factors = [1., 1.5, 2]\n",
    "I2M_factors = [0.25, 0.5, 1.0]\n",
    "\n",
    "k_days_list = [28]\n",
    "\n",
    "mu_ei_list = [6] \n",
    "mu_mo_list = [14]\n",
    "\n",
    "def one_run(initial_num_I, I2E_factor, I2M_factor, alpha, beta, mu_ei, mu_mo, k_days):\n",
    "    initial_num_E = initial_num_I * I2E_factor\n",
    "    initial_num_M = initial_num_I * I2M_factor\n",
    "    initial_num_M = min(bed_info[0][1], initial_num_M)\n",
    "    \n",
    "    params = Params(\n",
    "        initial_num_I=initial_num_I,\n",
    "        initial_num_E=initial_num_E,\n",
    "        initial_num_M=initial_num_M,\n",
    "        alpha=alpha,\n",
    "        beta=beta,\n",
    "        mu_ei=mu_ei,\n",
    "        mu_mo=mu_mo,\n",
    "        k_days=k_days,        \n",
    "    )\n",
    "    total, delta, increase, ax = do_simulation(total_days, bed_info, params)    \n",
    "    \n",
    "    I_mae = mean_absolute_error(I_true, increase[1:, STATE.I])\n",
    "    O_mae = mean_absolute_error(O_true, increase[1:, STATE.O])\n",
    "\n",
    "    \n",
    "    I_mse = mean_squared_error(I_true, increase[1:, STATE.I])\n",
    "    O_mse = mean_squared_error(O_true, increase[1:, STATE.O])\n",
    "\n",
    "    row = (\n",
    "        initial_num_I, initial_num_E, initial_num_M,\n",
    "        alpha, beta, k_days, mu_ei, mu_mo,\n",
    "        I_mae,  O_mae,  I_mse, O_mse\n",
    "    )\n",
    "    return row\n",
    "    \n",
    "total_num_configs = (\n",
    "    len(num_I_list) \n",
    "    * len(alpha_beta_choices) \n",
    "    * len(I2E_factors) \n",
    "    * len(mu_ei_list) \n",
    "    * len(mu_mo_list) \n",
    "    * len(I2M_factors)\n",
    "    * len(k_days_list)\n",
    ")\n",
    "\n",
    "rows = Parallel(n_jobs=-1)(\n",
    "    delayed(one_run)(num_I, I2E_factor, I2M_factor, alpha, beta, mu_ei, mu_mo, k_days)\n",
    "    for num_I, I2E_factor, I2M_factor, (alpha,  beta), mu_ei, mu_mo, k_days in tqdm(\n",
    "        product(num_I_list, I2E_factors, I2M_factors, alpha_beta_choices, mu_ei_list, mu_mo_list, k_days_list), total=total_num_configs\n",
    "    )\n",
    ")\n",
    "\n"
   ]
  },
  {
   "cell_type": "code",
   "execution_count": 8,
   "metadata": {},
   "outputs": [],
   "source": [
    "df = pd.DataFrame(\n",
    "    rows,\n",
    "    columns=['initial_num_I', 'initial_num_E', 'initial_num_M', 'alpha', 'beta',\n",
    "             'k_days',\n",
    "             'mu_ei', 'mu_mo',\n",
    "             'I_mae', 'O_mae',  'I_mse', 'O_mse']\n",
    ")"
   ]
  },
  {
   "cell_type": "code",
   "execution_count": 9,
   "metadata": {},
   "outputs": [],
   "source": [
    "br = df.sort_values(by='I_mae').iloc[0]\n"
   ]
  },
  {
   "cell_type": "code",
   "execution_count": 10,
   "metadata": {
    "scrolled": false
   },
   "outputs": [
    {
     "name": "stderr",
     "output_type": "stream",
     "text": [
      "  2%|▏         | 4/162 [00:00<00:04, 34.79it/s]"
     ]
    },
    {
     "name": "stdout",
     "output_type": "stream",
     "text": [
      "initial_num_I    6.000000e+03\n",
      "initial_num_E    6.000000e+03\n",
      "initial_num_M    4.000000e+03\n",
      "alpha            1.600000e-08\n",
      "beta             1.600000e-09\n",
      "k_days           2.800000e+01\n",
      "mu_ei            6.000000e+00\n",
      "mu_mo            1.400000e+01\n",
      "I_mae            2.935479e+02\n",
      "O_mae            7.178060e+01\n",
      "I_mse            1.136348e+05\n",
      "O_mse            7.883753e+03\n",
      "Name: 107, dtype: float64\n"
     ]
    },
    {
     "name": "stderr",
     "output_type": "stream",
     "text": [
      "100%|██████████| 162/162 [00:29<00:00,  5.47it/s]\n"
     ]
    },
    {
     "data": {
      "image/png": "[encoded data removed]",
      "text/plain": [
       "<Figure size 432x288 with 1 Axes>"
      ]
     },
     "metadata": {
      "needs_background": "light"
     },
     "output_type": "display_data"
    },
    {
     "data": {
      "image/png": "[encoded data removed]",
      "text/plain": [
       "<Figure size 432x288 with 1 Axes>"
      ]
     },
     "metadata": {
      "needs_background": "light"
     },
     "output_type": "display_data"
    }
   ],
   "source": [
    "# number of new beds at  some days\n",
    "bed_info = [((d-start_date).days, n) for d, n in bed_info_raw]\n",
    "bed_info\n",
    "\n",
    "print(br)\n",
    "\n",
    "params = Params(\n",
    "    initial_num_I=br.initial_num_I, \n",
    "    initial_num_E=br.initial_num_E,\n",
    "    initial_num_M=br.initial_num_M,\n",
    "    alpha=br.alpha, beta=br.beta,\n",
    "    mu_ei=br.mu_ei, mu_mo=br.mu_mo,\n",
    "    k_days=int(br.k_days)\n",
    ")\n",
    "total, delta, increase, aux = do_simulation(total_days+150, bed_info, params)    \n",
    "\n",
    "fig, ax = plt.subplots(1, 1)\n",
    "\n",
    "ax.plot(increase[1:, STATE.I], 's-', color='red')\n",
    "ax.plot(I_true, '-.', color='red')\n",
    "fig.legend(['predicted I (increase)', 'actual I (increase)'])\n",
    "fig.savefig('figs/true_I_vs_pred_I.pdf')\n",
    "\n",
    "# fig, ax = plt.subplots(1, 1)\n",
    "\n",
    "# ax.plot(increase[1:, STATE.O], 's-', color='red')\n",
    "# ax.plot(O_true, '-.', color='red')\n",
    "# fig.legend(['predicted O (increase)', 'actual O (increase)'])\n",
    "# fig.savefig('figs/true_O_vs_pred_O.pdf')\n",
    "\n",
    "fig, ax = plt.subplots(1, 1)\n",
    "for color, s in zip(COLORS[1:], range(1, NUM_STATES)):\n",
    "    ax.plot(total[:, s], c=color)\n",
    "fig.legend(STATES[1:])\n",
    "fig.savefig('figs/Jan27-final.pdf')"
   ]
  },
  {
   "cell_type": "code",
   "execution_count": 14,
   "metadata": {},
   "outputs": [
    {
     "name": "stdout",
     "output_type": "stream",
     "text": [
      "total_population: 9000000\n",
      "initial_num_E: 6000.0\n",
      "initial_num_I: 6000.0\n",
      "initial_num_M: 4000.0\n",
      "\n",
      "alpha: 1.6e-08\n",
      "beta:  1.6000000000000003e-09\n",
      "\n",
      "mu_ei: 6.0\n",
      "\n",
      "x0_pt: 10000\n",
      "k_pt:  0.0001\n",
      "\n",
      "mu_mo: 14.0\n",
      "\n",
      "k_days: 28\n",
      "        \n"
     ]
    }
   ],
   "source": [
    "print(params)"
   ]
  },
  {
   "cell_type": "code",
   "execution_count": 15,
   "metadata": {},
   "outputs": [],
   "source": [
    "pkl.dump(\n",
    "    params,\n",
    "    open('output/params_after_lockdown.pkl', 'wb')\n",
    ")"
   ]
  },
  {
   "cell_type": "code",
   "execution_count": 18,
   "metadata": {},
   "outputs": [
    {
     "name": "stderr",
     "output_type": "stream",
     "text": [
      "100%|██████████| 30/30 [00:03<00:00,  7.56it/s]"
     ]
    },
    {
     "name": "stdout",
     "output_type": "stream",
     "text": [
      "T1=5.821102553833502, T2=5.637780575044747, R0=1.9874744179186468\n"
     ]
    },
    {
     "name": "stderr",
     "output_type": "stream",
     "text": [
      "\n"
     ]
    }
   ],
   "source": [
    "bed_info = [((d-start_date).days, n) for d, n in bed_info_raw]\n",
    "\n",
    "params = Params(\n",
    "    initial_num_I=br.initial_num_I, \n",
    "    initial_num_E=br.initial_num_E,\n",
    "    initial_num_M=br.initial_num_M,\n",
    "    alpha=br.alpha, beta=br.beta,\n",
    "    mu_ei=br.mu_ei, mu_mo=br.mu_mo,\n",
    "    k_days=int(br.k_days)\n",
    ")\n",
    "_, _, _, R0_by_stage = do_simulation(30, bed_info, params)    \n",
    "\n",
    "T1, T2, R0 = R0_by_stage[0]\n",
    "print(f'T1={T1}, T2={T2}, R0={R0}')\n",
    "\n"
   ]
  }
 ],
 "metadata": {
  "kernelspec": {
   "display_name": "Python 3",
   "language": "python",
   "name": "python3"
  },
  "language_info": {
   "codemirror_mode": {
    "name": "ipython",
    "version": 3
   },
   "file_extension": ".py",
   "mimetype": "text/x-python",
   "name": "python",
   "nbconvert_exporter": "python",
   "pygments_lexer": "ipython3",
   "version": "3.6.10"
  }
 },
 "nbformat": 4,
 "nbformat_minor": 2
}
